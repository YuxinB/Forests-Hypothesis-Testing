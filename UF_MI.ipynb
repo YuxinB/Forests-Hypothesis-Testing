{
  "cells": [
    {
      "cell_type": "code",
      "source": [
        "from proglearn.progressive_learner import ClassificationProgressiveLearner\n",
        "from proglearn.transformers import TreeClassificationTransformer\n",
        "from proglearn.voters import TreeClassificationVoter\n",
        "from proglearn.deciders import SimpleArgmaxAverage\n",
        "\n",
        "from sklearn.tree import DecisionTreeClassifier\n",
        "from joblib import Parallel, delayed\n",
        "from collections import defaultdict\n",
        "from sklearn.utils.fixes import _joblib_parallel_args\n",
        "import threading\n",
        "from sklearn.ensemble._base import _partition_estimators\n",
        "from sklearn.utils.validation import check_is_fitted\n",
        "\n",
        "import numpy as np\n",
        "\n",
        "from sklearn.ensemble import RandomForestClassifier\n",
        "from sklearn.utils.validation import check_X_y, check_array\n",
        "\n",
        "\n",
        "from hyppo.tools import multimodal_independence, indep_sim, rot_ksamp\n",
        "from hyppo.tools import SIMULATIONS\n",
        "from hyppo.ksample._utils import k_sample_transform\n",
        "from tqdm import tqdm\n",
        "from hyppo.tools import * \n",
        "\n",
        "from joblib import Parallel, delayed\n",
        "from scipy.stats import entropy, multivariate_normal\n",
        "\n",
        "\n",
        "import matplotlib.pyplot as plt"
      ],
      "outputs": [],
      "execution_count": 1,
      "metadata": {
        "gather": {
          "logged": 1670281026406
        }
      }
    },
    {
      "cell_type": "code",
      "source": [
        "class UncertaintyForest:\n",
        "    \"\"\"\n",
        "    A class used to represent an Uncertainty Forest.\n",
        "    Parameters\n",
        "    ----------\n",
        "    n_estimators : int, default=100\n",
        "        The number of trees in the UncertaintyForest\n",
        "    kappa : float, default=np.inf\n",
        "        The coefficient for finite sample correction. If set to the default\n",
        "        value, finite sample correction is not performed.\n",
        "    max_depth : int, default=None\n",
        "        The maximum depth of a tree in the UncertaintyForest.\n",
        "    tree_construction_proportion : float, default=0.5\n",
        "        The proportions of the input data set aside to train each decision\n",
        "        tree. The remainder of the data is used to fill in voting posteriors.\n",
        "    max_features : {\"auto\", \"sqrt\", \"log2\"}, int or float, default=\"auto\"\n",
        "        The number of features to consider when looking for the best split:\n",
        "        - If int, then consider `max_features` features at each split.\n",
        "        - If float, then `max_features` is a fraction and\n",
        "          `round(max_features * n_features)` features are considered at each\n",
        "          split.\n",
        "        - If \"auto\", then `max_features=sqrt(n_features)`.\n",
        "        - If \"sqrt\", then `max_features=sqrt(n_features)` (same as \"auto\").\n",
        "        - If \"log2\", then `max_features=log2(n_features)`.\n",
        "        - If None, then `max_features=n_features`.\n",
        "        Note: the search for a split does not stop until at least one\n",
        "        valid partition of the node samples is found, even if it requires to\n",
        "        effectively inspect more than ``max_features`` features.\n",
        "    poisson_sampler : boolean, default=False\n",
        "        To match the GRF theory [#1grf]_, if True, the number of features\n",
        "        considered at each tree are drawn from a poisson distribution with\n",
        "        mean equal to `max_features`.\n",
        "    n_jobs : int, default=None\n",
        "        The number of jobs to run in parallel. ``-1`` means use all\n",
        "        processors. None equates to 1.\n",
        "    max_samples : int or float, default=None\n",
        "        The number of samples to draw from X (without replacement) to train\n",
        "        each tree.\n",
        "        - If None, then draw `X.shape[0]` samples.\n",
        "        - If int, then draw `max_samples` samples.\n",
        "        - If float, then draw `max_samples * X.shape[0]` samples. Thus,\n",
        "          `max_samples` should be in the interval `(0, 1)`.\n",
        "        Note: The number of samples used to learn the tree will be further\n",
        "        reduced per the `tree_construction_proportion` value.\n",
        "    honest_prior : {\"ignore\", \"uniform\", \"empirical\"}, default=\"ignore\"\n",
        "        Method for dealing with empty leaves during evaluation of a test\n",
        "        sample. If \"ignore\", trees in which the leaf is empty are not used in\n",
        "        the prediction. If \"uniform\", the prior tree posterior is 1/(number of\n",
        "        classes). If \"empirical\", the prior tree posterior is the relative\n",
        "        class frequency in the voting subsample. If all tree leaves are empty,\n",
        "        \"ignore\" will use the empirical prior and the others will use their\n",
        "        respective priors.\n",
        "    tree_kwargs : dict, default={}\n",
        "        Named arguments to be passed to each\n",
        "        sklearn.tree.DecisionTreeClassifier tree used in the construction\n",
        "        of the forest in addition to the above parameters.\n",
        "    Attributes\n",
        "    ----------\n",
        "    transformers_ : list of sklearn.tree.DecisionTreeClassifier\n",
        "        The collection of fitted trees.\n",
        "    voters_ : list of proglearn.voter.TreeClassificationVoter\n",
        "        The collection of honest voters for leaves in matching trees in\n",
        "        `self.estimators_` at the same index.\n",
        "    n_features_ : int\n",
        "        The number of features when `fit` is performed.\n",
        "    tree_kwargs_ : dict\n",
        "        Full set of keyword arguments passed to the Forest transformer.\n",
        "    References\n",
        "    ----------\n",
        "    .. [#1grf] Athey, Susan, Julie Tibshirani and Stefan Wager.\n",
        "        \"Generalized Random Forests\", Annals of Statistics, 2019.\n",
        "    \"\"\"\n",
        "\n",
        "    def __init__(\n",
        "        self,\n",
        "        n_estimators=100,\n",
        "        kappa=np.inf,\n",
        "        max_depth=None,\n",
        "        tree_construction_proportion=0.63,\n",
        "        max_features=\"auto\",\n",
        "        poisson_sampler=False,\n",
        "        max_samples=None,\n",
        "        n_jobs=None,\n",
        "        honest_prior=\"ignore\",\n",
        "        weighted_trees=False,\n",
        "        min_samples_leaf=1,\n",
        "        min_samples_split=2,\n",
        "        min_impurity_decrease=0.0,\n",
        "    ):\n",
        "        self.n_estimators = n_estimators\n",
        "        self.kappa = kappa\n",
        "        self.max_depth = max_depth\n",
        "        self.tree_construction_proportion = tree_construction_proportion\n",
        "        self.max_features = max_features\n",
        "        self.poisson_sampler = poisson_sampler\n",
        "        self.max_samples = max_samples\n",
        "        self.n_jobs = n_jobs\n",
        "        self.honest_prior = honest_prior\n",
        "        self.verbose = 0\n",
        "        self.weighted_trees = weighted_trees\n",
        "        self.min_samples_leaf = min_samples_leaf\n",
        "        self.min_samples_split = min_samples_split\n",
        "        self.min_impurity_decrease = min_impurity_decrease\n",
        "        \n",
        "\n",
        "    def fit(self, X, y):\n",
        "        \"\"\"\n",
        "        fits forest to data X with labels y\n",
        "        Parameters\n",
        "        ----------\n",
        "        X : array of shape [n_samples, n_features]\n",
        "            The data that will be trained on\n",
        "        y : array of shape [n_samples]\n",
        "            The label for cluster membership of the given data\n",
        "        Returns\n",
        "        -------\n",
        "        self : UncertaintyForest\n",
        "            The object itself.\n",
        "        \"\"\"\n",
        "        X, y = check_X_y(X, y)\n",
        "\n",
        "        self.n_samples_, self.n_features_ = X.shape\n",
        "        self.n_classes_ = len(np.unique(y))\n",
        "        self.empirical_prior_ = np.bincount(y, minlength=self.n_classes_) / len(y)\n",
        "\n",
        "        self.transformers_ = [\n",
        "            DecisionTreeClassifier(\n",
        "                max_features = self.max_features,\n",
        "                max_depth = self.max_depth,\n",
        "                min_samples_leaf = self.min_samples_leaf,\n",
        "                min_samples_split = self.min_samples_split,\n",
        "                min_impurity_decrease = self.min_impurity_decrease,\n",
        "                )\n",
        "            for _ in range(self.n_estimators)\n",
        "        ]\n",
        "\n",
        "        # Source https://github.com/scikit-learn/scikit-learn/blob/95119c13a/sklearn/ensemble/_forest.py#L387\n",
        "        self.transformers_, self.transformer_indices_ = list(zip(\n",
        "            *Parallel(n_jobs=self.n_jobs, verbose=self.verbose, **_joblib_parallel_args(prefer=\"threads\"))(\n",
        "                delayed(_parallel_build_trees)(\n",
        "                    X, y, tree, self.n_samples_, self.n_classes_,\n",
        "                    self.honest_prior, self.tree_construction_proportion,\n",
        "                    self.kappa, self.weighted_trees)\n",
        "                for tree in self.transformers_)\n",
        "                ))\n",
        "\n",
        "        return self\n",
        "\n",
        "    def predict_proba(self, X):\n",
        "        \"\"\"\n",
        "        estimates class posteriors for each example in input data X.\n",
        "        Parameters\n",
        "        ----------\n",
        "        X : array of shape [n_samples, n_features]\n",
        "            The data whose posteriors we are estimating.\n",
        "        Returns\n",
        "        -------\n",
        "        y_proba_hat : ndarray of shape [n_samples, n_classes]\n",
        "            posteriors per example\n",
        "        \"\"\"\n",
        "        X = self._validate_X_predict(X)\n",
        "        n_jobs, _, _ = _partition_estimators(self.n_estimators, self.n_jobs)\n",
        "\n",
        "        # avoid storing the output of every estimator by summing them here\n",
        "        posteriors = np.zeros((X.shape[0], self.n_classes_), dtype=np.float64)\n",
        "        lock = threading.Lock()\n",
        "\n",
        "        Parallel(n_jobs=n_jobs, verbose=self.verbose, **_joblib_parallel_args(require=\"sharedmem\"))(\n",
        "            delayed(_accumulate_prediction)(tree.tree_.predict, X, posteriors, lock, None, self.weighted_trees)\n",
        "            for tree in self.transformers_)\n",
        "\n",
        "        # Normalize to unit length, due to prior weighting\n",
        "        zero_mask = posteriors.sum(1) == 0\n",
        "        posteriors[~zero_mask] /= posteriors[~zero_mask].sum(1, keepdims=True)\n",
        "        posteriors[zero_mask] = self.empirical_prior_\n",
        "\n",
        "        return posteriors\n",
        "\n",
        "    def _validate_X_predict(self, X):\n",
        "        \"\"\"\n",
        "        From sklearn\n",
        "        Validate X whenever one tries to predict, apply, predict_proba.\"\"\"\n",
        "        check_is_fitted(self)\n",
        "\n",
        "        return self.transformers_[0]._validate_X_predict(X, check_input=True)\n",
        "\n",
        "    def predict(self, X):\n",
        "        \"\"\"\n",
        "        predicts class labels for each example in input data X.\n",
        "        Parameters\n",
        "        ----------\n",
        "        X : array of shape [n_samples, n_features]\n",
        "            The data on which we are performing inference.\n",
        "        Returns\n",
        "        -------\n",
        "        y_hat : ndarray of shape [n_samples]\n",
        "            predicted class label per example\n",
        "        \"\"\"\n",
        "        return self.predict_proba(X).argmax(1)\n",
        "\n",
        "    def predict_proba_honest(self, X, voters=True):\n",
        "        \"\"\"\n",
        "        Returns predicted posteriors of the training data, excluding trees a\n",
        "        sample was used in construction of.\n",
        "        Parameters\n",
        "        ----------\n",
        "        X : array of shape [n_samples, n_features]\n",
        "            The data on which the forest was fit to.\n",
        "        Returns\n",
        "        -------\n",
        "        y_proba_hat : ndarray of shape [n_samples, n_classes]\n",
        "            posteriors per example\n",
        "        \"\"\"\n",
        "        X = self._validate_X_predict(X)\n",
        "        n_jobs, _, _ = _partition_estimators(self.n_estimators, self.n_jobs)\n",
        "\n",
        "        # avoid storing the output of every estimator by summing them here\n",
        "        posteriors = np.zeros((X.shape[0], self.n_classes_), dtype=np.float64)\n",
        "        lock = threading.Lock()\n",
        "\n",
        "        if voters:\n",
        "            Parallel(n_jobs=n_jobs, verbose=self.verbose, **_joblib_parallel_args(require=\"sharedmem\"))(\n",
        "                delayed(_accumulate_prediction)(tree.tree_.predict, X, posteriors, lock, honest_indices)\n",
        "                for tree, honest_indices in zip(self.transformers_, self.voter_indices_))\n",
        "        else:\n",
        "            Parallel(n_jobs=n_jobs, verbose=self.verbose, **_joblib_parallel_args(require=\"sharedmem\"))(\n",
        "                delayed(_accumulate_prediction)(tree.tree_.predict, X, posteriors, lock, indices)\n",
        "                for tree, indices in zip(self.transformers_, self.transformer_indices_))\n",
        "\n",
        "        # Normalize to unit length, due to prior weighting\n",
        "        zero_mask = posteriors.sum(1) == 0\n",
        "        posteriors[~zero_mask] /= posteriors[~zero_mask].sum(1, keepdims=True)\n",
        "        posteriors[zero_mask] = self.empirical_prior_\n",
        "\n",
        "        return posteriors\n",
        "\n",
        "\n",
        "    @property\n",
        "    def voter_indices_(self):\n",
        "        if not hasattr(self, \"transformer_indices_\"):\n",
        "            raise AttributeError(\"Model has not been fitted. Please fit first.\")\n",
        "        return [\n",
        "            np.setdiff1d(np.arange(self.n_samples_), transformer_indices)\n",
        "            for transformer_indices in self.transformer_indices_]\n",
        "\n",
        "\n",
        "def _parallel_build_trees(\n",
        "    X, y, tree, n_samples_, n_classes_,\n",
        "    honest_prior, tree_construction_proportion,\n",
        "    kappa, weighted_trees):\n",
        "        # https://github.com/scikit-learn/scikit-learn/blob/95119c13a/sklearn/ensemble/_forest.py#L140\n",
        "        \"\"\"\n",
        "        Private function used to fit a single tree in parallel.\"\"\"\n",
        "\n",
        "        transformer_indices = np.random.choice(\n",
        "            n_samples_,\n",
        "            int(tree_construction_proportion * n_samples_),\n",
        "            replace=False)  # No bootstrapping\n",
        "        voter_indices = np.setdiff1d(\n",
        "            np.arange(n_samples_), transformer_indices)\n",
        "\n",
        "        sample_weight = np.ones((n_samples_,), dtype=np.float64)\n",
        "        sample_counts = np.bincount(\n",
        "            transformer_indices, minlength=n_samples_)\n",
        "        sample_weight *= sample_counts\n",
        "\n",
        "        #tree = tree.fit(X, y, sample_weight=sample_weight, check_input=False) ### Why using y, rather than X[transformer_indices,:],y[transformer_indices]\n",
        "        tree = tree.fit(X[transformer_indices,:],y[transformer_indices], sample_weight=sample_weight[transformer_indices], check_input=False)\n",
        "        \n",
        "        honest_leaves = tree.apply(X[voter_indices])\n",
        "        # empirical_prior = np.bincount(\n",
        "        #     y[voter_indices], minlength=n_classes_)\n",
        "\n",
        "        # if honest_prior == 'ignore':\n",
        "        #     posterior_dict = defaultdict(lambda: np.zeros(n_classes_))\n",
        "        # elif honest_prior == 'empirical':\n",
        "        #     posterior_dict = defaultdict(lambda: empirical_prior)\n",
        "        # elif honest_prior == 'uniform':\n",
        "        #     posterior_dict = defaultdict(lambda: np.ones(n_classes_) / n_classes_)\n",
        "\n",
        "        tree.tree_.value[:, :, :] = 0 # empirical_prior\n",
        "\n",
        "        for leaf_id, yval in zip(honest_leaves, y[voter_indices]):\n",
        "            # posterior_dict[leaf_id][yval] += 1\n",
        "            tree.tree_.value[leaf_id][0, yval] += 1\n",
        "\n",
        "        # for leaf_id in np.unique(honest_leaves):\n",
        "        #     leaf_id_indices = np.where(honest_leaves == leaf_id)[0]\n",
        "        #     correction = 1 / (kappa * len(leaf_id_indices))\n",
        "        #     posterior = correction * empirical_prior + \\\n",
        "        #         (1 - correction) * np.bincount(\n",
        "        #             y[voter_indices[leaf_id_indices]],\n",
        "        #             minlength=n_classes_) / len(leaf_id_indices)\n",
        "        #     posterior_dict[leaf_id] = posterior * (len(leaf_id_indices) if weighted_trees else 1)\n",
        "\n",
        "        return tree, transformer_indices\n",
        "\n",
        "\n",
        "def _accumulate_prediction(predict, X, out, lock, honest_indices=None, weighted_trees=False):\n",
        "    \"\"\"\n",
        "    See https://github.com/scikit-learn/scikit-learn/blob/95119c13af77c76e150b753485c662b7c52a41a2/sklearn/ensemble/_forest.py#L460\n",
        "    This is a utility function for joblib's Parallel.\n",
        "    It can't go locally in ForestClassifier or ForestRegressor, because joblib\n",
        "    complains that it cannot pickle it when placed there.\n",
        "    \"\"\"\n",
        "\n",
        "    # predict = DecisionTreeClassifier.tree_.predict\n",
        "    if honest_indices is not None:\n",
        "        proba = predict(X[honest_indices])\n",
        "    else:\n",
        "        proba = predict(X)\n",
        "    if not weighted_trees:\n",
        "        zero_mask = proba.sum(1) == 0\n",
        "        proba[~zero_mask] /= proba[~zero_mask].sum(1, keepdims=True)\n",
        "    with lock:\n",
        "        if honest_indices is not None:\n",
        "            out[honest_indices] += proba\n",
        "        else:\n",
        "            out += proba"
      ],
      "outputs": [],
      "execution_count": 2,
      "metadata": {
        "jupyter": {
          "source_hidden": false,
          "outputs_hidden": false
        },
        "nteract": {
          "transient": {
            "deleting": false
          }
        },
        "gather": {
          "logged": 1670281026599
        }
      }
    },
    {
      "cell_type": "code",
      "source": [
        "class UFTest_permute_tree:\n",
        "    def __init__(self, uf):\n",
        "        self.name = 'UF'\n",
        "        self.uf = uf\n",
        "        self.fit_ = False\n",
        "        \n",
        "    def statistic(self, X, y):\n",
        "        y = y.ravel()\n",
        "        if not self.fit_:\n",
        "            self.uf = self.uf.fit(X, y)\n",
        "            self.y_ = y\n",
        "            if hasattr(self, \"honest_leaf_indices_\"):\n",
        "                assert hasattr(self, \"transformer_leaf_indices_\")\n",
        "                del self.honest_leaf_indices_\n",
        "                del self.transformer_leaf_indices_\n",
        "            self.fit_ = True\n",
        "        if not hasattr(self, \"honest_leaf_indices_\"):\n",
        "            self.honest_leaf_indices_ = []\n",
        "            self.transformer_leaf_indices_ = []\n",
        "            for tree, voter_indices, transformer_indices in zip(self.uf.transformers_, self.uf.voter_indices_, self.uf.transformer_indices_):\n",
        "                self.honest_leaf_indices_.append(tree.apply(X[voter_indices]))\n",
        "                self.transformer_leaf_indices_.append(tree.apply(X[transformer_indices]))\n",
        "\n",
        "        _, counts = np.unique(y, return_counts=True)\n",
        "        H_Y = entropy(counts, base=np.exp(1))\n",
        "        H_YX = self._refit_apply_oob(X, self.y_) # changed from y to self.y_ as does the permutation internally per tree\n",
        "        return max(H_Y - H_YX, 0)\n",
        "        #return H_YX/100\n",
        "\n",
        "    def _refit_apply_oob(self, X, y):\n",
        "        posteriors = np.zeros((X.shape[0], self.uf.n_classes_), dtype=np.float64)\n",
        "        # posteriors = np.zeros((X.shape[0], self.uf.n_estimators, self.uf.n_classes_), dtype=np.float64)\n",
        "\n",
        "        for tree, honest_leaf_indices, voter_indices, tranformer_leaf_indices, transformer_indices in zip(\n",
        "            self.uf.transformers_, self.honest_leaf_indices_, self.uf.voter_indices_, self.transformer_leaf_indices_, self.uf.transformer_indices_):\n",
        "        # for tree_idx, (honest_leaf_indices, voter_indices) in enumerate(zip(self.honest_leaf_indices_, self.uf.voter_indices_)):\n",
        "            tree.tree_.value[:, :, :] = 0\n",
        "\n",
        "            y_voters = y[voter_indices]\n",
        "            np.random.shuffle(y_voters)\n",
        "            for leaf_id, yval in zip(honest_leaf_indices, y_voters):\n",
        "                tree.tree_.value[leaf_id][0, yval] += 1\n",
        "\n",
        "            leaf_indices = np.hstack((honest_leaf_indices, tranformer_leaf_indices))\n",
        "            sample_indices = np.hstack((voter_indices, transformer_indices))\n",
        "\n",
        "            proba = tree.tree_.value[leaf_indices][:, 0, :]\n",
        "            normalizer = proba.sum(axis=1)[:, np.newaxis]\n",
        "            normalizer[normalizer == 0.0] = 1.0 # solves divide by 0 error\n",
        "            proba /= normalizer\n",
        "            posteriors[sample_indices] += proba\n",
        "\n",
        "        # Normalize to unit length, due to prior weighting\n",
        "        zero_mask = posteriors.sum(1) == 0\n",
        "        posteriors[~zero_mask] /= posteriors[~zero_mask].sum(1, keepdims=True)\n",
        "        posteriors[zero_mask] = self.uf.empirical_prior_\n",
        "\n",
        "        return np.mean(entropy(posteriors, base=np.exp(1), axis=1))"
      ],
      "outputs": [],
      "execution_count": 3,
      "metadata": {
        "jupyter": {
          "source_hidden": false,
          "outputs_hidden": false
        },
        "nteract": {
          "transient": {
            "deleting": false
          }
        },
        "gather": {
          "logged": 1670281031208
        }
      }
    },
    {
      "cell_type": "code",
      "source": [
        "def _perm_stat(calc_stat,X, y, is_distsim = True, permuter = None): \n",
        "    if permuter is None: \n",
        "        order = np.random.permutation(y.shape[0])\n",
        "    else: \n",
        "        order = permuter()\n",
        "    \n",
        "    if is_distsim: \n",
        "        permy = y[order][:, order]\n",
        "    else: \n",
        "        permy = y[order]\n",
        "    \n",
        "    perm_stat = calc_stat.statistic(X, permy)\n",
        "    \n",
        "    return perm_stat\n",
        "\n",
        "\n",
        "def perm_test(calc_stat,X, y, workers = -1, is_distsim=True, perm_block = None, reps = 1000): \n",
        "\n",
        "    # calculate observed test statistic\n",
        "    stat = calc_stat.statistic(X, y)\n",
        "    #print(stat) \n",
        "    \n",
        "    # calculate null distribution\n",
        "    #null_dist = np.array(Parallel(n_jobs=-2)(delayed(_perm_stat)(test,X, y,is_distsim = False,permuter = None) for rep in range(0,reps)))\n",
        "    # null_dist = []\n",
        "    # for rep in range(0,reps):\n",
        "    #     null_dist.append(_perm_stat(calc_stat,X, y, is_distsim = False, permuter = None))\n",
        "    # #print(null_dist)\n",
        "\n",
        "    null_dist = np.asarray([_perm_stat(calc_stat, X, y,is_distsim = False) for rep in range(reps)])\n",
        "    pvalue = ((null_dist >= stat).sum() + 1) / (reps + 1)\n",
        "    #pvalue = (null_dist >= stat).sum() / reps\n",
        "    \n",
        "\n",
        "    # correct for a p-value of 0. This is because, with bootstrapping\n",
        "    # permutations, a p-value of 0 is incorrect\n",
        "    # if pvalue == 0:\n",
        "    #     pvalue = 1 / reps\n",
        "\n",
        "    #return stat, pvalue, null_dist\n",
        "    #print(stat, pvalue, null_dist)\n",
        "    return stat, pvalue, null_dist"
      ],
      "outputs": [],
      "execution_count": 4,
      "metadata": {
        "jupyter": {
          "source_hidden": false,
          "outputs_hidden": false
        },
        "nteract": {
          "transient": {
            "deleting": false
          }
        },
        "gather": {
          "logged": 1670281033980
        }
      }
    },
    {
      "cell_type": "code",
      "source": [
        "simulations = [\n",
        "    # 'logarithmic',\n",
        "    'multimodal_independence',\n",
        "]\n",
        "test = UFTest_permute_tree(\n",
        "    uf = UncertaintyForest(\n",
        "        n_estimators=100,\n",
        "        tree_construction_proportion=0.4,\n",
        "        kappa=np.inf,\n",
        "        min_samples_leaf=5,\n",
        "        honest_prior=\"ignore\",\n",
        "        max_features=\"auto\",\n",
        "        n_jobs=-1,\n",
        "        max_samples = None\n",
        "    )\n",
        ")"
      ],
      "outputs": [],
      "execution_count": 5,
      "metadata": {
        "jupyter": {
          "source_hidden": false,
          "outputs_hidden": false
        },
        "nteract": {
          "transient": {
            "deleting": false
          }
        },
        "gather": {
          "logged": 1670281036114
        }
      }
    },
    {
      "cell_type": "code",
      "source": [
        "x,y_ = multimodal_independence(n = 100,p = 1,prob = 0.5)\n",
        "#x, y_= rot_ksamp('multimodal_independence', n=100, p=1,noise=False,degree  = 90)\n",
        "print(x.shape)\n",
        "X, y = k_sample_transform([x, y_])\n",
        "#print(X[100:])\n",
        "print(X.shape)\n",
        "# plt.scatter(x[:,0],x[:,1])\n",
        "# plt.show()\n",
        "#plt.scatter(X[:,0],X[:,1],c = y.astype(int))"
      ],
      "outputs": [
        {
          "output_type": "stream",
          "name": "stdout",
          "text": "(100, 1)\n(200, 1)\n"
        }
      ],
      "execution_count": 6,
      "metadata": {
        "jupyter": {
          "source_hidden": false,
          "outputs_hidden": false
        },
        "nteract": {
          "transient": {
            "deleting": false
          }
        },
        "gather": {
          "logged": 1670281037207
        }
      }
    },
    {
      "cell_type": "code",
      "source": [
        "ite = 100\n",
        "reps = 1000\n",
        "sample_size = 100 \n",
        "stat = []\n",
        "pvalue = []\n",
        "null_dist = np.zeros((ite,reps))\n",
        "\n",
        "for i in range(0,ite):\n",
        "    #x,y_ = multimodal_independence(n = sample_size,p = 1,prob = 0.5)\n",
        "    x, y_ = rot_ksamp('multimodal_independence', n=sample_size, p=1,noise=True)\n",
        "    X, y = k_sample_transform([x, y_])\n",
        "    y = y.astype(int)\n",
        "    print(X.shape)\n",
        "    stat_i, pvalue_i, null_dist_i = perm_test(test,X, y,is_distsim = False,reps = reps)\n",
        "    print(pvalue_i)\n",
        "    pvalue.append(pvalue_i)\n",
        "    stat.append(stat_i)\n",
        "    null_dist[i,:] = null_dist_i\n"
      ],
      "outputs": [
        {
          "output_type": "stream",
          "name": "stdout",
          "text": "(200, 2)\n0.7032967032967034\n(200, 2)\n0.7492507492507493\n(200, 2)\n0.003996003996003996\n(200, 2)\n0.0989010989010989\n(200, 2)\n0.942057942057942\n(200, 2)\n0.9110889110889111\n(200, 2)\n"
        }
      ],
      "execution_count": 7,
      "metadata": {
        "jupyter": {
          "source_hidden": false,
          "outputs_hidden": false
        },
        "nteract": {
          "transient": {
            "deleting": false
          }
        },
        "gather": {
          "logged": 1670280259997
        }
      }
    },
    {
      "cell_type": "code",
      "source": [
        "np.save(\"NULL_DIS_w_100_1h_part.npy\",null_dist)\n",
        "np.save(\"pvalue_w_100_1h_part.npy\",pvalue)\n",
        "np.save(\"stat_w_100_1h_part.npy\",stat)"
      ],
      "outputs": [],
      "execution_count": null,
      "metadata": {
        "jupyter": {
          "source_hidden": false,
          "outputs_hidden": false
        },
        "nteract": {
          "transient": {
            "deleting": false
          }
        },
        "gather": {
          "logged": 1670280261089
        }
      }
    },
    {
      "cell_type": "code",
      "source": [
        "from statsmodels.distributions.empirical_distribution import ECDF\n",
        "ecdf = ECDF(pvalue) \n",
        "plt.plot(ecdf.x, ecdf.y,label = \"ECDF\")\n",
        "plt.plot(np.arange(0,1.1,0.1),np.arange(0,1.1,0.1),c = 'r',label = \"UDF\")\n",
        "plt.title(\"ECDF for p-value with 100 trees and 100 iterations, Structure Frac = 0.4\")\n",
        "plt.legend()\n",
        "plt.show()"
      ],
      "outputs": [
        {
          "output_type": "display_data",
          "data": {
            "text/plain": "<Figure size 640x480 with 1 Axes>",
            "image/png": "[encoded data removed]"
          },
          "metadata": {}
        }
      ],
      "execution_count": 12,
      "metadata": {
        "jupyter": {
          "source_hidden": false,
          "outputs_hidden": false
        },
        "nteract": {
          "transient": {
            "deleting": false
          }
        },
        "gather": {
          "logged": 1670304906139
        }
      }
    },
    {
      "cell_type": "code",
      "source": [
        "plt.hist(null_dist[5,:],bins=20)\n",
        "print(stat[5])\n",
        "print(pvalue[5])\n"
      ],
      "outputs": [],
      "execution_count": null,
      "metadata": {
        "jupyter": {
          "source_hidden": false,
          "outputs_hidden": false
        },
        "nteract": {
          "transient": {
            "deleting": false
          }
        },
        "gather": {
          "logged": 1670280261464
        }
      }
    },
    {
      "cell_type": "code",
      "source": [
        "#pvalue = np.load(\"pvalue_w_all_1k.npy\")\n",
        "from statsmodels.distributions.empirical_distribution import ECDF\n",
        "ecdf = ECDF(pvalue) \n",
        "plt.plot(ecdf.x, ecdf.y,label = \"ECDF\")\n",
        "plt.plot(np.arange(0,1.1,0.1),np.arange(0,1.1,0.1),c = 'r',label = \"UDF\")\n",
        "plt.title(\"ECDF for p-value with 100 trees and 1000 iterations,Structure Frac = 1\")\n",
        "plt.legend()\n",
        "plt.show()"
      ],
      "outputs": [
        {
          "output_type": "display_data",
          "data": {
            "text/plain": "<Figure size 640x480 with 1 Axes>",
            "image/png": "[encoded data removed]"
          },
          "metadata": {}
        }
      ],
      "execution_count": 11,
      "metadata": {
        "jupyter": {
          "source_hidden": false,
          "outputs_hidden": false
        },
        "nteract": {
          "transient": {
            "deleting": false
          }
        },
        "gather": {
          "logged": 1670280261965
        }
      }
    },
    {
      "cell_type": "code",
      "source": [],
      "outputs": [],
      "execution_count": null,
      "metadata": {
        "jupyter": {
          "source_hidden": false,
          "outputs_hidden": false
        },
        "nteract": {
          "transient": {
            "deleting": false
          }
        }
      }
    },
    {
      "cell_type": "code",
      "source": [
        "plt.hist(pvalue,bins=10)\n",
        "plt.title(\"Histogram for p-value with 100 trees and 100 iterations,Structure Frac = 0.4\")"
      ],
      "outputs": [
        {
          "output_type": "execute_result",
          "execution_count": 13,
          "data": {
            "text/plain": "Text(0.5, 1.0, 'Histogram for p-value with 100 trees and 100 iterations,Structure Frac = 0.4')"
          },
          "metadata": {}
        },
        {
          "output_type": "display_data",
          "data": {
            "text/plain": "<Figure size 640x480 with 1 Axes>",
            "image/png": "[encoded data removed]"
          },
          "metadata": {}
        }
      ],
      "execution_count": 13,
      "metadata": {
        "jupyter": {
          "source_hidden": false,
          "outputs_hidden": false
        },
        "nteract": {
          "transient": {
            "deleting": false
          }
        },
        "gather": {
          "logged": 1670304944008
        }
      }
    },
    {
      "cell_type": "code",
      "source": [
        "ite = 100\n",
        "reps = 1000\n",
        "sample_size = 100 \n",
        "stat = []\n",
        "pvalue = []\n",
        "null_dist = np.zeros((ite,reps))\n",
        "\n",
        "for i in range(0,ite):\n",
        "    #x,y_ = multimodal_independence(n = sample_size,p = 1,prob = 0.5)\n",
        "    x, y_ = rot_ksamp('multimodal_independence', n=sample_size, p=1,k=2,noise=True)\n",
        "    X, y = k_sample_transform([x, y_])\n",
        "    y = y.astype(int)\n",
        "    print(X.shape)\n",
        "    stat_i, pvalue_i, null_dist_i = perm_test(test,X, y,is_distsim = False,reps = reps)\n",
        "    print(pvalue_i)\n",
        "    pvalue.append(pvalue_i)\n",
        "    stat.append(stat_i)\n",
        "    null_dist[i,:] = null_dist_i"
      ],
      "outputs": [
        {
          "output_type": "stream",
          "name": "stdout",
          "text": "(200, 2)\n0.8851148851148851\n(200, 2)\n0.06793206793206794\n(200, 2)\n0.07692307692307693\n(200, 2)\n0.014985014985014986\n(200, 2)\n0.6593406593406593\n(200, 2)\n0.0939060939060939\n(200, 2)\n0.929070929070929\n(200, 2)\n0.8621378621378621\n(200, 2)\n0.8101898101898102\n(200, 2)\n0.8851148851148851\n(200, 2)\n0.06893106893106893\n(200, 2)\n0.23076923076923078\n(200, 2)\n0.34965034965034963\n(200, 2)\n0.46053946053946054\n(200, 2)\n0.003996003996003996\n(200, 2)\n0.8411588411588412\n(200, 2)\n0.5044955044955045\n(200, 2)\n0.43756243756243757\n(200, 2)\n0.2967032967032967\n(200, 2)\n0.26673326673326675\n(200, 2)\n0.5734265734265734\n(200, 2)\n0.32667332667332666\n(200, 2)\n0.6613386613386614\n(200, 2)\n0.33166833166833165\n(200, 2)\n0.8171828171828172\n(200, 2)\n0.4875124875124875\n(200, 2)\n0.7182817182817183\n(200, 2)\n0.2037962037962038\n(200, 2)\n0.21078921078921078\n(200, 2)\n0.5054945054945055\n(200, 2)\n0.4695304695304695\n(200, 2)\n0.5134865134865135\n(200, 2)\n"
        }
      ],
      "execution_count": 13,
      "metadata": {
        "jupyter": {
          "source_hidden": false,
          "outputs_hidden": false
        },
        "nteract": {
          "transient": {
            "deleting": false
          }
        }
      }
    }
  ],
  "metadata": {
    "kernelspec": {
      "name": "python38-azureml",
      "language": "python",
      "display_name": "Python 3.8 - AzureML"
    },
    "language_info": {
      "name": "python",
      "version": "3.8.5",
      "mimetype": "text/x-python",
      "codemirror_mode": {
        "name": "ipython",
        "version": 3
      },
      "pygments_lexer": "ipython3",
      "nbconvert_exporter": "python",
      "file_extension": ".py"
    },
    "kernel_info": {
      "name": "python38-azureml"
    },
    "microsoft": {
      "host": {
        "AzureML": {
          "notebookHasBeenCompleted": true
        }
      }
    },
    "nteract": {
      "version": "nteract-front-end@1.0.0"
    }
  },
  "nbformat": 4,
  "nbformat_minor": 2
}