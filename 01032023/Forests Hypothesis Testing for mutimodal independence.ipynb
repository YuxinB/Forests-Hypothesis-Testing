{
  "cells": [
    {
      "cell_type": "code",
      "source": [
        "from proglearn.progressive_learner import ClassificationProgressiveLearner\n",
        "from proglearn.transformers import TreeClassificationTransformer\n",
        "from proglearn.voters import TreeClassificationVoter\n",
        "from proglearn.deciders import SimpleArgmaxAverage\n",
        "\n",
        "from sklearn.tree import DecisionTreeClassifier\n",
        "from joblib import Parallel, delayed\n",
        "from collections import defaultdict\n",
        "from sklearn.utils.fixes import _joblib_parallel_args\n",
        "import threading\n",
        "from sklearn.ensemble._base import _partition_estimators\n",
        "from sklearn.utils.validation import check_is_fitted\n",
        "\n",
        "import numpy as np\n",
        "\n",
        "from sklearn.ensemble import RandomForestClassifier\n",
        "from sklearn.utils.validation import check_X_y, check_array\n",
        "\n",
        "\n",
        "from hyppo.tools import multimodal_independence, indep_sim, rot_ksamp\n",
        "from hyppo.tools import SIMULATIONS\n",
        "from hyppo.ksample._utils import k_sample_transform\n",
        "from tqdm import tqdm\n",
        "from hyppo.tools import * \n",
        "\n",
        "from joblib import Parallel, delayed\n",
        "from scipy.stats import entropy, multivariate_normal\n",
        "\n",
        "\n",
        "import matplotlib.pyplot as plt"
      ],
      "outputs": [],
      "execution_count": 1,
      "metadata": {
        "gather": {
          "logged": 1672719247098
        }
      }
    },
    {
      "cell_type": "code",
      "source": [
        "class UncertaintyForest:\n",
        "    \"\"\"\n",
        "    A class used to represent an Uncertainty Forest.\n",
        "    Parameters\n",
        "    ----------\n",
        "    n_estimators : int, default=100\n",
        "        The number of trees in the UncertaintyForest\n",
        "    kappa : float, default=np.inf\n",
        "        The coefficient for finite sample correction. If set to the default\n",
        "        value, finite sample correction is not performed.\n",
        "    max_depth : int, default=None\n",
        "        The maximum depth of a tree in the UncertaintyForest.\n",
        "    tree_construction_proportion : float, default=0.5\n",
        "        The proportions of the input data set aside to train each decision\n",
        "        tree. The remainder of the data is used to fill in voting posteriors.\n",
        "    max_features : {\"auto\", \"sqrt\", \"log2\"}, int or float, default=\"auto\"\n",
        "        The number of features to consider when looking for the best split:\n",
        "        - If int, then consider `max_features` features at each split.\n",
        "        - If float, then `max_features` is a fraction and\n",
        "          `round(max_features * n_features)` features are considered at each\n",
        "          split.\n",
        "        - If \"auto\", then `max_features=sqrt(n_features)`.\n",
        "        - If \"sqrt\", then `max_features=sqrt(n_features)` (same as \"auto\").\n",
        "        - If \"log2\", then `max_features=log2(n_features)`.\n",
        "        - If None, then `max_features=n_features`.\n",
        "        Note: the search for a split does not stop until at least one\n",
        "        valid partition of the node samples is found, even if it requires to\n",
        "        effectively inspect more than ``max_features`` features.\n",
        "    poisson_sampler : boolean, default=False\n",
        "        To match the GRF theory [#1grf]_, if True, the number of features\n",
        "        considered at each tree are drawn from a poisson distribution with\n",
        "        mean equal to `max_features`.\n",
        "    n_jobs : int, default=None\n",
        "        The number of jobs to run in parallel. ``-1`` means use all\n",
        "        processors. None equates to 1.\n",
        "    max_samples : int or float, default=None\n",
        "        The number of samples to draw from X (without replacement) to train\n",
        "        each tree.\n",
        "        - If None, then draw `X.shape[0]` samples.\n",
        "        - If int, then draw `max_samples` samples.\n",
        "        - If float, then draw `max_samples * X.shape[0]` samples. Thus,\n",
        "          `max_samples` should be in the interval `(0, 1)`.\n",
        "        Note: The number of samples used to learn the tree will be further\n",
        "        reduced per the `tree_construction_proportion` value.\n",
        "    honest_prior : {\"ignore\", \"uniform\", \"empirical\"}, default=\"ignore\"\n",
        "        Method for dealing with empty leaves during evaluation of a test\n",
        "        sample. If \"ignore\", trees in which the leaf is empty are not used in\n",
        "        the prediction. If \"uniform\", the prior tree posterior is 1/(number of\n",
        "        classes). If \"empirical\", the prior tree posterior is the relative\n",
        "        class frequency in the voting subsample. If all tree leaves are empty,\n",
        "        \"ignore\" will use the empirical prior and the others will use their\n",
        "        respective priors.\n",
        "    tree_kwargs : dict, default={}\n",
        "        Named arguments to be passed to each\n",
        "        sklearn.tree.DecisionTreeClassifier tree used in the construction\n",
        "        of the forest in addition to the above parameters.\n",
        "    Attributes\n",
        "    ----------\n",
        "    transformers_ : list of sklearn.tree.DecisionTreeClassifier\n",
        "        The collection of fitted trees.\n",
        "    voters_ : list of proglearn.voter.TreeClassificationVoter\n",
        "        The collection of honest voters for leaves in matching trees in\n",
        "        `self.estimators_` at the same index.\n",
        "    n_features_ : int\n",
        "        The number of features when `fit` is performed.\n",
        "    tree_kwargs_ : dict\n",
        "        Full set of keyword arguments passed to the Forest transformer.\n",
        "    References\n",
        "    ----------\n",
        "    .. [#1grf] Athey, Susan, Julie Tibshirani and Stefan Wager.\n",
        "        \"Generalized Random Forests\", Annals of Statistics, 2019.\n",
        "    \"\"\"\n",
        "\n",
        "    def __init__(\n",
        "        self,\n",
        "        n_estimators=100,\n",
        "        kappa=np.inf,\n",
        "        max_depth=None,\n",
        "        tree_construction_proportion=0.63,\n",
        "        max_features=\"auto\",\n",
        "        poisson_sampler=False,\n",
        "        max_samples=None,\n",
        "        n_jobs=None,\n",
        "        honest_prior=\"ignore\",\n",
        "        weighted_trees=False,\n",
        "        min_samples_leaf=1,\n",
        "        min_samples_split=2,\n",
        "        min_impurity_decrease=0.0,\n",
        "    ):\n",
        "        self.n_estimators = n_estimators\n",
        "        self.kappa = kappa\n",
        "        self.max_depth = max_depth\n",
        "        self.tree_construction_proportion = tree_construction_proportion\n",
        "        self.max_features = max_features\n",
        "        self.poisson_sampler = poisson_sampler\n",
        "        self.max_samples = max_samples\n",
        "        self.n_jobs = n_jobs\n",
        "        self.honest_prior = honest_prior\n",
        "        self.verbose = 0\n",
        "        self.weighted_trees = weighted_trees\n",
        "        self.min_samples_leaf = min_samples_leaf\n",
        "        self.min_samples_split = min_samples_split\n",
        "        self.min_impurity_decrease = min_impurity_decrease\n",
        "        \n",
        "\n",
        "    def fit(self, X, y):\n",
        "        \"\"\"\n",
        "        fits forest to data X with labels y\n",
        "        Parameters\n",
        "        ----------\n",
        "        X : array of shape [n_samples, n_features]\n",
        "            The data that will be trained on\n",
        "        y : array of shape [n_samples]\n",
        "            The label for cluster membership of the given data\n",
        "        Returns\n",
        "        -------\n",
        "        self : UncertaintyForest\n",
        "            The object itself.\n",
        "        \"\"\"\n",
        "        X, y = check_X_y(X, y)\n",
        "\n",
        "        self.n_samples_, self.n_features_ = X.shape\n",
        "        self.n_classes_ = len(np.unique(y))\n",
        "        self.empirical_prior_ = np.bincount(y, minlength=self.n_classes_) / len(y)\n",
        "\n",
        "        self.transformers_ = [\n",
        "            DecisionTreeClassifier(\n",
        "                max_features = self.max_features,\n",
        "                max_depth = self.max_depth,\n",
        "                min_samples_leaf = self.min_samples_leaf,\n",
        "                min_samples_split = self.min_samples_split,\n",
        "                min_impurity_decrease = self.min_impurity_decrease,\n",
        "                )\n",
        "            for _ in range(self.n_estimators)\n",
        "        ]\n",
        "\n",
        "        # Source https://github.com/scikit-learn/scikit-learn/blob/95119c13a/sklearn/ensemble/_forest.py#L387\n",
        "        self.transformers_, self.transformer_indices_ = list(zip(\n",
        "            *Parallel(n_jobs=self.n_jobs, verbose=self.verbose, **_joblib_parallel_args(prefer=\"threads\"))(\n",
        "                delayed(_parallel_build_trees)(\n",
        "                    X, y, tree, self.n_samples_, self.n_classes_,\n",
        "                    self.honest_prior, self.tree_construction_proportion,\n",
        "                    self.kappa, self.weighted_trees)\n",
        "                for tree in self.transformers_)\n",
        "                ))\n",
        "\n",
        "        return self\n",
        "\n",
        "    def predict_proba(self, X):\n",
        "        \"\"\"\n",
        "        estimates class posteriors for each example in input data X.\n",
        "        Parameters\n",
        "        ----------\n",
        "        X : array of shape [n_samples, n_features]\n",
        "            The data whose posteriors we are estimating.\n",
        "        Returns\n",
        "        -------\n",
        "        y_proba_hat : ndarray of shape [n_samples, n_classes]\n",
        "            posteriors per example\n",
        "        \"\"\"\n",
        "        X = self._validate_X_predict(X)\n",
        "        n_jobs, _, _ = _partition_estimators(self.n_estimators, self.n_jobs)\n",
        "\n",
        "        # avoid storing the output of every estimator by summing them here\n",
        "        posteriors = np.zeros((X.shape[0], self.n_classes_), dtype=np.float64)\n",
        "        lock = threading.Lock()\n",
        "\n",
        "        Parallel(n_jobs=n_jobs, verbose=self.verbose, **_joblib_parallel_args(require=\"sharedmem\"))(\n",
        "            delayed(_accumulate_prediction)(tree.tree_.predict, X, posteriors, lock, None, self.weighted_trees)\n",
        "            for tree in self.transformers_)\n",
        "\n",
        "        # Normalize to unit length, due to prior weighting\n",
        "        zero_mask = posteriors.sum(1) == 0\n",
        "        posteriors[~zero_mask] /= posteriors[~zero_mask].sum(1, keepdims=True)\n",
        "        posteriors[zero_mask] = self.empirical_prior_\n",
        "\n",
        "        return posteriors\n",
        "\n",
        "    def _validate_X_predict(self, X):\n",
        "        \"\"\"\n",
        "        From sklearn\n",
        "        Validate X whenever one tries to predict, apply, predict_proba.\"\"\"\n",
        "        check_is_fitted(self)\n",
        "\n",
        "        return self.transformers_[0]._validate_X_predict(X, check_input=True)\n",
        "\n",
        "    def predict(self, X):\n",
        "        \"\"\"\n",
        "        predicts class labels for each example in input data X.\n",
        "        Parameters\n",
        "        ----------\n",
        "        X : array of shape [n_samples, n_features]\n",
        "            The data on which we are performing inference.\n",
        "        Returns\n",
        "        -------\n",
        "        y_hat : ndarray of shape [n_samples]\n",
        "            predicted class label per example\n",
        "        \"\"\"\n",
        "        return self.predict_proba(X).argmax(1)\n",
        "\n",
        "    def predict_proba_honest(self, X, voters=True):\n",
        "        \"\"\"\n",
        "        Returns predicted posteriors of the training data, excluding trees a\n",
        "        sample was used in construction of.\n",
        "        Parameters\n",
        "        ----------\n",
        "        X : array of shape [n_samples, n_features]\n",
        "            The data on which the forest was fit to.\n",
        "        Returns\n",
        "        -------\n",
        "        y_proba_hat : ndarray of shape [n_samples, n_classes]\n",
        "            posteriors per example\n",
        "        \"\"\"\n",
        "        X = self._validate_X_predict(X)\n",
        "        n_jobs, _, _ = _partition_estimators(self.n_estimators, self.n_jobs)\n",
        "\n",
        "        # avoid storing the output of every estimator by summing them here\n",
        "        posteriors = np.zeros((X.shape[0], self.n_classes_), dtype=np.float64)\n",
        "        lock = threading.Lock()\n",
        "\n",
        "        if voters:\n",
        "            Parallel(n_jobs=n_jobs, verbose=self.verbose, **_joblib_parallel_args(require=\"sharedmem\"))(\n",
        "                delayed(_accumulate_prediction)(tree.tree_.predict, X, posteriors, lock, honest_indices)\n",
        "                for tree, honest_indices in zip(self.transformers_, self.voter_indices_))\n",
        "        else:\n",
        "            Parallel(n_jobs=n_jobs, verbose=self.verbose, **_joblib_parallel_args(require=\"sharedmem\"))(\n",
        "                delayed(_accumulate_prediction)(tree.tree_.predict, X, posteriors, lock, indices)\n",
        "                for tree, indices in zip(self.transformers_, self.transformer_indices_))\n",
        "\n",
        "        # Normalize to unit length, due to prior weighting\n",
        "        zero_mask = posteriors.sum(1) == 0\n",
        "        posteriors[~zero_mask] /= posteriors[~zero_mask].sum(1, keepdims=True)\n",
        "        posteriors[zero_mask] = self.empirical_prior_\n",
        "\n",
        "        return posteriors\n",
        "\n",
        "\n",
        "    @property\n",
        "    def voter_indices_(self):\n",
        "        if not hasattr(self, \"transformer_indices_\"):\n",
        "            raise AttributeError(\"Model has not been fitted. Please fit first.\")\n",
        "        return [\n",
        "            np.setdiff1d(np.arange(self.n_samples_), transformer_indices)\n",
        "            for transformer_indices in self.transformer_indices_]\n",
        "\n",
        "\n",
        "def _parallel_build_trees(\n",
        "    X, y, tree, n_samples_, n_classes_,\n",
        "    honest_prior, tree_construction_proportion,\n",
        "    kappa, weighted_trees):\n",
        "        # https://github.com/scikit-learn/scikit-learn/blob/95119c13a/sklearn/ensemble/_forest.py#L140\n",
        "        \"\"\"\n",
        "        Private function used to fit a single tree in parallel.\"\"\"\n",
        "\n",
        "        transformer_indices = np.random.choice(\n",
        "            n_samples_,\n",
        "            int(tree_construction_proportion * n_samples_),\n",
        "            replace=False)  # No bootstrapping\n",
        "        voter_indices = np.setdiff1d(\n",
        "            np.arange(n_samples_), transformer_indices)\n",
        "\n",
        "        sample_weight = np.ones((n_samples_,), dtype=np.float64)\n",
        "        sample_counts = np.bincount(\n",
        "            transformer_indices, minlength=n_samples_)\n",
        "        sample_weight *= sample_counts\n",
        "\n",
        "        #tree = tree.fit(X, y, sample_weight=sample_weight, check_input=False) ### Why using y, rather than X[transformer_indices,:],y[transformer_indices]\n",
        "        tree = tree.fit(X[transformer_indices,:],y[transformer_indices], sample_weight=sample_weight[transformer_indices], check_input=False)\n",
        "        \n",
        "        honest_leaves = tree.apply(X[voter_indices])\n",
        "        # empirical_prior = np.bincount(\n",
        "        #     y[voter_indices], minlength=n_classes_)\n",
        "\n",
        "        # if honest_prior == 'ignore':\n",
        "        #     posterior_dict = defaultdict(lambda: np.zeros(n_classes_))\n",
        "        # elif honest_prior == 'empirical':\n",
        "        #     posterior_dict = defaultdict(lambda: empirical_prior)\n",
        "        # elif honest_prior == 'uniform':\n",
        "        #     posterior_dict = defaultdict(lambda: np.ones(n_classes_) / n_classes_)\n",
        "\n",
        "        tree.tree_.value[:, :, :] = 0 # empirical_prior\n",
        "\n",
        "        for leaf_id, yval in zip(honest_leaves, y[voter_indices]):\n",
        "            # posterior_dict[leaf_id][yval] += 1\n",
        "            tree.tree_.value[leaf_id][0, yval] += 1\n",
        "\n",
        "        # for leaf_id in np.unique(honest_leaves):\n",
        "        #     leaf_id_indices = np.where(honest_leaves == leaf_id)[0]\n",
        "        #     correction = 1 / (kappa * len(leaf_id_indices))\n",
        "        #     posterior = correction * empirical_prior + \\\n",
        "        #         (1 - correction) * np.bincount(\n",
        "        #             y[voter_indices[leaf_id_indices]],\n",
        "        #             minlength=n_classes_) / len(leaf_id_indices)\n",
        "        #     posterior_dict[leaf_id] = posterior * (len(leaf_id_indices) if weighted_trees else 1)\n",
        "\n",
        "        return tree, transformer_indices\n",
        "\n",
        "\n",
        "def _accumulate_prediction(predict, X, out, lock, honest_indices=None, weighted_trees=False):\n",
        "    \"\"\"\n",
        "    See https://github.com/scikit-learn/scikit-learn/blob/95119c13af77c76e150b753485c662b7c52a41a2/sklearn/ensemble/_forest.py#L460\n",
        "    This is a utility function for joblib's Parallel.\n",
        "    It can't go locally in ForestClassifier or ForestRegressor, because joblib\n",
        "    complains that it cannot pickle it when placed there.\n",
        "    \"\"\"\n",
        "\n",
        "    # predict = DecisionTreeClassifier.tree_.predict\n",
        "    if honest_indices is not None:\n",
        "        proba = predict(X[honest_indices])\n",
        "    else:\n",
        "        proba = predict(X)\n",
        "    if not weighted_trees:\n",
        "        zero_mask = proba.sum(1) == 0\n",
        "        proba[~zero_mask] /= proba[~zero_mask].sum(1, keepdims=True)\n",
        "    with lock:\n",
        "        if honest_indices is not None:\n",
        "            out[honest_indices] += proba\n",
        "        else:\n",
        "            out += proba"
      ],
      "outputs": [],
      "execution_count": 2,
      "metadata": {
        "jupyter": {
          "source_hidden": false,
          "outputs_hidden": false
        },
        "nteract": {
          "transient": {
            "deleting": false
          }
        },
        "gather": {
          "logged": 1672719248630
        }
      }
    },
    {
      "cell_type": "code",
      "source": [
        "class UFTest_permute_tree:\n",
        "    def __init__(self, uf):\n",
        "        self.name = 'UF'\n",
        "        self.uf = uf\n",
        "        self.fit_ = False\n",
        "        \n",
        "    def statistic(self, X, y):\n",
        "        y = y.ravel()\n",
        "        if not self.fit_:\n",
        "            self.uf = self.uf.fit(X, y)\n",
        "            self.y_ = y\n",
        "#             if hasattr(self, \"honest_leaf_indices_\"):\n",
        "#                 assert hasattr(self, \"transformer_leaf_indices_\")\n",
        "#                 del self.honest_leaf_indices_\n",
        "#                 del self.transformer_leaf_indices_\n",
        "            self.fit_ = True\n",
        "            H_YX = np.mean(entropy(self.uf.predict_proba(X), base=np.exp(1), axis=1))\n",
        "\n",
        "        # if not hasattr(self, \"honest_leaf_indices_\"):\n",
        "            self.honest_leaf_indices_ = []\n",
        "            self.transformer_leaf_indices_ = []\n",
        "            for tree, voter_indices, transformer_indices in zip(self.uf.transformers_, self.uf.voter_indices_, self.uf.transformer_indices_):\n",
        "                self.honest_leaf_indices_.append(tree.apply(X[voter_indices]))\n",
        "                self.transformer_leaf_indices_.append(tree.apply(X[transformer_indices]))\n",
        "        else:\n",
        "            H_YX = self._refit_apply_oob(X, self.y_) # changed from y to self.y_ as does the permutation internally per tree\n",
        "            ### y has been permuted\n",
        "\n",
        "        _, counts = np.unique(y, return_counts=True)\n",
        "        H_Y = entropy(counts, base=np.exp(1))\n",
        "        \n",
        "        return max(H_Y - H_YX, 0)\n",
        "\n",
        "    def _refit_apply_oob(self, X, y):\n",
        "        posteriors = np.zeros((X.shape[0], self.uf.n_classes_), dtype=np.float64)\n",
        "        # posteriors = np.zeros((X.shape[0], self.uf.n_estimators, self.uf.n_classes_), dtype=np.float64)\n",
        "\n",
        "        # np.random.shuffle(y)\n",
        "        for tree, honest_leaf_indices, voter_indices, tranformer_leaf_indices, transformer_indices in zip(\n",
        "            self.uf.transformers_, self.honest_leaf_indices_, self.uf.voter_indices_, self.transformer_leaf_indices_, self.uf.transformer_indices_):\n",
        "        # for tree_idx, (honest_leaf_indices, voter_indices) in enumerate(zip(self.honest_leaf_indices_, self.uf.voter_indices_)):\n",
        "            tree.tree_.value[:, :, :] = 0\n",
        "\n",
        "            y_voters = y[voter_indices]\n",
        "            np.random.shuffle(y_voters)\n",
        "            for leaf_id, yval in zip(honest_leaf_indices, y_voters):\n",
        "                tree.tree_.value[leaf_id][0, yval] += 1\n",
        "\n",
        "            leaf_indices = np.hstack((honest_leaf_indices, tranformer_leaf_indices))\n",
        "            sample_indices = np.hstack((voter_indices, transformer_indices))\n",
        "\n",
        "            proba = tree.tree_.value[leaf_indices][:, 0, :]\n",
        "            normalizer = proba.sum(axis=1)[:, np.newaxis]\n",
        "            normalizer[normalizer == 0.0] = 1.0 # solves divide by 0 error\n",
        "            proba /= normalizer\n",
        "            posteriors[sample_indices] += proba\n",
        "\n",
        "        # Normalize to unit length, due to prior weighting\n",
        "        zero_mask = posteriors.sum(1) == 0\n",
        "        posteriors[~zero_mask] /= posteriors[~zero_mask].sum(1, keepdims=True)\n",
        "        posteriors[zero_mask] = self.uf.empirical_prior_\n",
        "\n",
        "        return np.mean(entropy(posteriors, base=np.exp(1), axis=1))\n",
        "    "
      ],
      "outputs": [],
      "execution_count": 3,
      "metadata": {
        "jupyter": {
          "source_hidden": false,
          "outputs_hidden": false
        },
        "nteract": {
          "transient": {
            "deleting": false
          }
        },
        "gather": {
          "logged": 1672719258932
        }
      }
    },
    {
      "cell_type": "code",
      "source": [
        "def _perm_stat(calc_stat,X, y): \n",
        "    # Refit Forests at each permutation\n",
        "    if hasattr(calc_stat, \"fit_\"):\n",
        "        calc_stat.fit_ = False\n",
        "    \n",
        "    permy = np.random.permutation(y)\n",
        "    perm_stat = calc_stat.statistic(X, permy)\n",
        "    \n",
        "    return perm_stat\n",
        "\n",
        "\n",
        "def perm_test(calc_stat,X, y,reps = 1000): \n",
        "    # calculate observed test statistic\n",
        "    # Refit Forests for every simulatiion\n",
        "    if hasattr(calc_stat, \"fit_\"):\n",
        "        calc_stat.fit_ = False\n",
        "    stat = calc_stat.statistic(X, y)\n",
        "    \n",
        "    null_dist = np.asarray([_perm_stat(calc_stat, X, y) for rep in range(reps)])\n",
        "    pvalue = ((null_dist >= stat).sum() + 1) / (reps + 1)\n",
        "    \n",
        "    return stat, pvalue, null_dist"
      ],
      "outputs": [],
      "execution_count": 4,
      "metadata": {
        "jupyter": {
          "source_hidden": false,
          "outputs_hidden": false
        },
        "nteract": {
          "transient": {
            "deleting": false
          }
        },
        "gather": {
          "logged": 1672719275193
        }
      }
    },
    {
      "cell_type": "code",
      "source": [
        "def estimate_power(sim, test,sample_size = 100,dim = 2,reps=1000):\n",
        "    est_power = []\n",
        "    stats_dict = {}\n",
        "    stats_dict = {'pvalues': [], 'null_dists': [], 'stats': []}\n",
        "            \n",
        "    def _helper():\n",
        "        x, y = rot_ksamp(sim, n=sample_size, p=dim, noise=False)\n",
        "        if np.var(np.vstack([x,y])) == 0:\n",
        "            print(\"X == 0\")\n",
        "            stat = 0\n",
        "            pvalue = 0\n",
        "            null_dist = 0\n",
        "        \n",
        "        \n",
        "        else:\n",
        "            X, y = k_sample_transform([x, y])\n",
        "            y = y.astype(int)\n",
        "            print(X.shape,y.shape)\n",
        "            stat, pvalue, null_dist = perm_test(test, X, y, reps=reps)\n",
        "\n",
        "        return stat, pvalue, null_dist\n",
        "    \n",
        "    stats = []\n",
        "    pvalues = []\n",
        "    null_dists = []\n",
        "    for _ in range(POWER_REPS):\n",
        "        stat, pvalue, null_dist = _helper()\n",
        "        stats.append(stat)\n",
        "        pvalues.append(pvalue)\n",
        "        print(stat)\n",
        "        # print(null_dist)\n",
        "        print(pvalue)\n",
        "        null_dists.append(null_dist)\n",
        "        \n",
        "    empirical_power = np.mean(np.asarray(pvalues) <= 0.05)\n",
        "    \n",
        "\n",
        "    est_power.append(empirical_power)\n",
        "        \n",
        "    stats_dict['pvalues'] = pvalues\n",
        "    stats_dict['null_dists'] = null_dists\n",
        "    stats_dict['stats'] = stats\n",
        "    stats_dict['power'] = empirical_power\n",
        "    \n",
        "    return est_power, stats_dict"
      ],
      "outputs": [],
      "execution_count": 5,
      "metadata": {
        "jupyter": {
          "source_hidden": false,
          "outputs_hidden": false
        },
        "nteract": {
          "transient": {
            "deleting": false
          }
        },
        "gather": {
          "logged": 1672719279190
        }
      }
    },
    {
      "cell_type": "code",
      "source": [
        "simulations = [\n",
        "    # 'logarithmic',\n",
        "    'multimodal_independence',\n",
        "]\n",
        "test = UFTest_permute_tree(\n",
        "    uf = UncertaintyForest(\n",
        "        n_estimators=10,\n",
        "        tree_construction_proportion=0.5,\n",
        "        kappa=np.inf,\n",
        "        min_samples_leaf=5,\n",
        "        honest_prior=\"ignore\",\n",
        "        max_features= 1.0,\n",
        "        n_jobs=-1,\n",
        "        max_samples = None\n",
        "    )\n",
        ")"
      ],
      "outputs": [],
      "execution_count": 6,
      "metadata": {
        "jupyter": {
          "source_hidden": false,
          "outputs_hidden": false
        },
        "nteract": {
          "transient": {
            "deleting": false
          }
        },
        "gather": {
          "logged": 1672719281707
        }
      }
    },
    {
      "cell_type": "code",
      "source": [
        "ite = 100\n",
        "POWER_REPS = 100\n",
        "sample_size_i = 20\n",
        "sim = 'multimodal_independence'\n",
        "power, stats_dict = estimate_power(sim, test,sample_size = sample_size_i,dim = 1)"
      ],
      "outputs": [
        {
          "output_type": "stream",
          "name": "stdout",
          "text": "(40, 2) (40, 1)\n0.012493387264357558\n0.5464535464535465\n(40, 2) (40, 1)\n0.02454326557448383\n0.22677322677322678\n(40, 2) (40, 1)\n0.038428433744623236\n0.1108891108891109\n(40, 2) (40, 1)\n0.006749197687944797\n0.8341658341658341\n(40, 2) (40, 1)\n0.0022106567659812004\n0.9920079920079921\n(40, 2) (40, 1)\n0.011034411755951434\n0.5904095904095904\n(40, 2) (40, 1)\n0.024807223036734105\n0.2127872127872128\n(40, 2) (40, 1)\n0.013537564266463464\n0.5014985014985015\n(40, 2) (40, 1)\n0.035975886072758145\n0.12087912087912088\n(40, 2) (40, 1)\n0.004060160770961496\n0.942057942057942\n(40, 2) (40, 1)\n0.004975088270004258\n0.9110889110889111\n(40, 2) (40, 1)\n0.016493770584544487\n0.4145854145854146\n(40, 2) (40, 1)\n0.04773170963935636\n0.059940059940059943\n(40, 2) (40, 1)\n0.03468193476138459\n0.11888111888111888\n(40, 2) (40, 1)\n0.008980774466825658\n0.6773226773226774\n(40, 2) (40, 1)\n0.00513382069414281\n0.8941058941058941\n(40, 2) (40, 1)\n0.004634753289707971\n0.916083916083916\n(40, 2) (40, 1)\n0.01587194354780075\n0.44255744255744256\n(40, 2) (40, 1)\n0.017057471304045446\n0.3886113886113886\n(40, 2) (40, 1)\n0.016053367658264373\n0.3956043956043956\n(40, 2) (40, 1)\n0.00634875429258297\n0.8231768231768232\n(40, 2) (40, 1)\n0.010875232907254007\n0.6023976023976024\n(40, 2) (40, 1)\n0.00945315699633087\n0.6523476523476524\n(40, 2) (40, 1)\n0.005777197806367429\n0.8671328671328671\n(40, 2) (40, 1)\n0.04683490251086131\n0.07792207792207792\n(40, 2) (40, 1)\n0.0069232096689118006\n0.7952047952047953\n(40, 2) (40, 1)\n0.026364805200495556\n0.1998001998001998\n(40, 2) (40, 1)\n0.02511324475552934\n0.2097902097902098\n(40, 2) (40, 1)\n0.007444393757848222\n0.7842157842157842\n(40, 2) (40, 1)\n0.0069609332778087785\n0.8021978021978022\n(40, 2) (40, 1)\n0.00915131209627984\n0.7202797202797203\n(40, 2) (40, 1)\n0.021133625447326554\n0.2807192807192807\n(40, 2) (40, 1)\n0.0034251581051238933\n0.948051948051948\n(40, 2) (40, 1)\n0.024608140075627394\n0.23776223776223776\n(40, 2) (40, 1)\n0.0023824059493443572\n0.989010989010989\n(40, 2) (40, 1)\n0.013017801636131754\n0.4965034965034965\n(40, 2) (40, 1)\n0.006361420087141689\n0.8301698301698301\n(40, 2) (40, 1)\n0.016167090239732285\n0.4085914085914086\n(40, 2) (40, 1)\n0.005035344261710706\n0.903096903096903\n(40, 2) (40, 1)\n0.004827863478789052\n0.9140859140859141\n(40, 2) (40, 1)\n0.013409543278112612\n0.5154845154845155\n(40, 2) (40, 1)\n0.020081798166369347\n0.3156843156843157\n(40, 2) (40, 1)\n0.022237318834116282\n0.2987012987012987\n(40, 2) (40, 1)\n0.02326751879323874\n0.26173826173826176\n(40, 2) (40, 1)\n0.007885232270926967\n0.7562437562437563\n(40, 2) (40, 1)\n0.02361127126532081\n0.25374625374625376\n(40, 2) (40, 1)\n0.0038820793432166045\n0.9470529470529471\n(40, 2) (40, 1)\n0.002344650150648442\n0.994005994005994\n(40, 2) (40, 1)\n0.0043618280503177065\n0.926073926073926\n(40, 2) (40, 1)\n0.05794613900226586\n0.04295704295704296\n(40, 2) (40, 1)\n0.012646253724084455\n0.5274725274725275\n(40, 2) (40, 1)\n0.009677126469838426\n0.6613386613386614\n(40, 2) (40, 1)\n0.08038735091487059\n0.015984015984015984\n(40, 2) (40, 1)\n0.020966671266019143\n0.2787212787212787\n(40, 2) (40, 1)\n0.009236650667320156\n0.6833166833166833\n(40, 2) (40, 1)\n0.007256158804191171\n0.7972027972027972\n(40, 2) (40, 1)\n0.03439937043886787\n0.13186813186813187\n(40, 2) (40, 1)\n0.006226364787104033\n0.8421578421578422\n(40, 2) (40, 1)\n0.005751622379871368\n0.8771228771228772\n(40, 2) (40, 1)\n0.026999053604498835\n0.1918081918081918\n(40, 2) (40, 1)\n0.08456089635716979\n0.015984015984015984\n(40, 2) (40, 1)\n0.0065137665453604\n0.8381618381618382\n(40, 2) (40, 1)\n0.03660949591332341\n0.10989010989010989\n(40, 2) (40, 1)\n0.0328140627526855\n0.13186813186813187\n(40, 2) (40, 1)\n0.0589361639209357\n0.03796203796203796\n(40, 2) (40, 1)\n0.02146311625872921\n0.26973026973026976\n(40, 2) (40, 1)\n0.013724848476624696\n0.5024975024975025\n(40, 2) (40, 1)\n0.014097826769669863\n0.4835164835164835\n(40, 2) (40, 1)\n0.023748041543363074\n0.24675324675324675\n(40, 2) (40, 1)\n0.011641390790688377\n0.5734265734265734\n(40, 2) (40, 1)\n0.008226126469632722\n0.7292707292707292\n(40, 2) (40, 1)\n0.007155086988403725\n0.7832167832167832\n(40, 2) (40, 1)\n0.024717910653129005\n0.22477522477522477\n(40, 2) (40, 1)\n0.012023789367258675\n0.5544455544455544\n(40, 2) (40, 1)\n0.013164494868238785\n0.5424575424575424\n(40, 2) (40, 1)\n0.014640103228970025\n0.4645354645354645\n(40, 2) (40, 1)\n0.015817372230180315\n0.4245754245754246\n(40, 2) (40, 1)\n0.00656912656234232\n0.8081918081918081\n(40, 2) (40, 1)\n0.017558436974428826\n0.3726273726273726\n(40, 2) (40, 1)\n0.02028592861920997\n0.3046953046953047\n(40, 2) (40, 1)\n0.008544950297192266\n0.7292707292707292\n(40, 2) (40, 1)\n0.01982722488825306\n0.3156843156843157\n(40, 2) (40, 1)\n0.006744985982046203\n0.8201798201798202\n(40, 2) (40, 1)\n0.06563440571127299\n0.03496503496503497\n(40, 2) (40, 1)\n0.02049973883307532\n0.3086913086913087\n(40, 2) (40, 1)\n0.019808554638276354\n0.3206793206793207\n(40, 2) (40, 1)\n0.0032197666942678227\n0.972027972027972\n(40, 2) (40, 1)\n0.005414770981789885\n0.8841158841158842\n(40, 2) (40, 1)\n0.006102325799618669\n0.8431568431568431\n(40, 2) (40, 1)\n0.012636007735414179\n0.5284715284715285\n(40, 2) (40, 1)\n0.07895379750603237\n0.013986013986013986\n(40, 2) (40, 1)\n0.011908139075480606\n0.5844155844155844\n(40, 2) (40, 1)\n0.012411020805837336\n0.5614385614385614\n(40, 2) (40, 1)\n0.013829915130782688\n0.4805194805194805\n(40, 2) (40, 1)\n0.01611701043338354\n0.4125874125874126\n(40, 2) (40, 1)\n0.011381272768488104\n0.5924075924075924\n(40, 2) (40, 1)\n0.010151571595222175\n0.6793206793206793\n(40, 2) (40, 1)\n0.011994816865402158\n0.5734265734265734\n(40, 2) (40, 1)\n0.006582902208550512\n0.8251748251748252\n(40, 2) (40, 1)\n0.010086360771928371\n0.6413586413586414\n"
        }
      ],
      "execution_count": 7,
      "metadata": {
        "jupyter": {
          "source_hidden": false,
          "outputs_hidden": false
        },
        "nteract": {
          "transient": {
            "deleting": false
          }
        },
        "gather": {
          "logged": 1672721662537
        }
      }
    },
    {
      "cell_type": "code",
      "source": [
        "power"
      ],
      "outputs": [
        {
          "output_type": "execute_result",
          "execution_count": 11,
          "data": {
            "text/plain": "[0.06]"
          },
          "metadata": {}
        }
      ],
      "execution_count": 11,
      "metadata": {
        "jupyter": {
          "source_hidden": false,
          "outputs_hidden": false
        },
        "nteract": {
          "transient": {
            "deleting": false
          }
        },
        "gather": {
          "logged": 1672723512197
        }
      }
    },
    {
      "cell_type": "code",
      "source": [
        "np.save(\"NULL_DIS_w_100_1h_part.npy\",null_dist)\n",
        "np.save(\"pvalue_w_100_1h_part.npy\",pvalue)\n",
        "np.save(\"stat_w_100_1h_part.npy\",stat) "
      ],
      "outputs": [],
      "execution_count": null,
      "metadata": {
        "jupyter": {
          "source_hidden": false,
          "outputs_hidden": false
        },
        "nteract": {
          "transient": {
            "deleting": false
          }
        },
        "gather": {
          "logged": 1670280261089
        }
      }
    },
    {
      "cell_type": "code",
      "source": [
        "pvalues = stats_dict['pvalues']"
      ],
      "outputs": [],
      "execution_count": 12,
      "metadata": {
        "jupyter": {
          "source_hidden": false,
          "outputs_hidden": false
        },
        "nteract": {
          "transient": {
            "deleting": false
          }
        },
        "gather": {
          "logged": 1672723516141
        }
      }
    },
    {
      "cell_type": "code",
      "source": [
        "#pvalue = np.load(\"pvalue_w_all_1k.npy\")\n",
        "from statsmodels.distributions.empirical_distribution import ECDF\n",
        "ecdf = ECDF(pvalues) \n",
        "plt.plot(ecdf.x, ecdf.y,label = \"ECDF\")\n",
        "plt.plot(np.arange(0,1.1,0.1),np.arange(0,1.1,0.1),c = 'r',label = \"UDF\")\n",
        "plt.title(\"ECDF for p-value with 10 trees and 100 iterations,Structure Frac = 0.5, Sample Size = 20\")\n",
        "plt.legend()\n",
        "plt.show()"
      ],
      "outputs": [
        {
          "output_type": "display_data",
          "data": {
            "text/plain": "<Figure size 640x480 with 1 Axes>",
            "image/png": "[encoded data removed]"
          },
          "metadata": {}
        }
      ],
      "execution_count": 13,
      "metadata": {
        "jupyter": {
          "source_hidden": false,
          "outputs_hidden": false
        },
        "nteract": {
          "transient": {
            "deleting": false
          }
        },
        "gather": {
          "logged": 1672723517320
        }
      }
    },
    {
      "cell_type": "code",
      "source": [
        "plt.hist(pvalues,bins=10)\n",
        "plt.title(\"Histogram for p-value with 10 trees and 100 iterations,Structure Frac = 0.5,Sample Size = 20\")"
      ],
      "outputs": [
        {
          "output_type": "execute_result",
          "execution_count": 14,
          "data": {
            "text/plain": "Text(0.5, 1.0, 'Histogram for p-value with 10 trees and 100 iterations,Structure Frac = 0.5,Sample Size = 20')"
          },
          "metadata": {}
        },
        {
          "output_type": "display_data",
          "data": {
            "text/plain": "<Figure size 640x480 with 1 Axes>",
            "image/png": "[encoded data removed]"
          },
          "metadata": {}
        }
      ],
      "execution_count": 14,
      "metadata": {
        "jupyter": {
          "source_hidden": false,
          "outputs_hidden": false
        },
        "nteract": {
          "transient": {
            "deleting": false
          }
        },
        "gather": {
          "logged": 1672723525309
        }
      }
    }
  ],
  "metadata": {
    "kernelspec": {
      "name": "python38-azureml",
      "language": "python",
      "display_name": "Python 3.8 - AzureML"
    },
    "language_info": {
      "name": "python",
      "version": "3.8.5",
      "mimetype": "text/x-python",
      "codemirror_mode": {
        "name": "ipython",
        "version": 3
      },
      "pygments_lexer": "ipython3",
      "nbconvert_exporter": "python",
      "file_extension": ".py"
    },
    "kernel_info": {
      "name": "python38-azureml"
    },
    "microsoft": {
      "host": {
        "AzureML": {
          "notebookHasBeenCompleted": true
        }
      }
    },
    "nteract": {
      "version": "nteract-front-end@1.0.0"
    }
  },
  "nbformat": 4,
  "nbformat_minor": 2
}