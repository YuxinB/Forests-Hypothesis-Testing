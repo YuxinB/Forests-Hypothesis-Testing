{
  "cells": [
    {
      "cell_type": "code",
      "source": [
        "from proglearn.progressive_learner import ClassificationProgressiveLearner\n",
        "from proglearn.transformers import TreeClassificationTransformer\n",
        "from proglearn.voters import TreeClassificationVoter\n",
        "from proglearn.deciders import SimpleArgmaxAverage\n",
        "\n",
        "from sklearn.tree import DecisionTreeClassifier\n",
        "from joblib import Parallel, delayed\n",
        "from collections import defaultdict\n",
        "from sklearn.utils.fixes import _joblib_parallel_args\n",
        "import threading\n",
        "from sklearn.ensemble._base import _partition_estimators\n",
        "from sklearn.utils.validation import check_is_fitted\n",
        "\n",
        "import numpy as np\n",
        "\n",
        "from sklearn.ensemble import RandomForestClassifier\n",
        "from sklearn.utils.validation import check_X_y, check_array\n",
        "\n",
        "\n",
        "from hyppo.tools import multimodal_independence, indep_sim, rot_ksamp\n",
        "from hyppo.tools import SIMULATIONS\n",
        "from hyppo.ksample._utils import k_sample_transform\n",
        "from tqdm import tqdm\n",
        "from hyppo.tools import * \n",
        "\n",
        "from joblib import Parallel, delayed\n",
        "from scipy.stats import entropy, multivariate_normal\n",
        "\n",
        "\n",
        "import matplotlib.pyplot as plt"
      ],
      "outputs": [],
      "execution_count": 1,
      "metadata": {
        "gather": {
          "logged": 1672707362313
        }
      }
    },
    {
      "cell_type": "code",
      "source": [
        "class UncertaintyForest:\n",
        "    \"\"\"\n",
        "    A class used to represent an Uncertainty Forest.\n",
        "    Parameters\n",
        "    ----------\n",
        "    n_estimators : int, default=100\n",
        "        The number of trees in the UncertaintyForest\n",
        "    kappa : float, default=np.inf\n",
        "        The coefficient for finite sample correction. If set to the default\n",
        "        value, finite sample correction is not performed.\n",
        "    max_depth : int, default=None\n",
        "        The maximum depth of a tree in the UncertaintyForest.\n",
        "    tree_construction_proportion : float, default=0.5\n",
        "        The proportions of the input data set aside to train each decision\n",
        "        tree. The remainder of the data is used to fill in voting posteriors.\n",
        "    max_features : {\"auto\", \"sqrt\", \"log2\"}, int or float, default=\"auto\"\n",
        "        The number of features to consider when looking for the best split:\n",
        "        - If int, then consider `max_features` features at each split.\n",
        "        - If float, then `max_features` is a fraction and\n",
        "          `round(max_features * n_features)` features are considered at each\n",
        "          split.\n",
        "        - If \"auto\", then `max_features=sqrt(n_features)`.\n",
        "        - If \"sqrt\", then `max_features=sqrt(n_features)` (same as \"auto\").\n",
        "        - If \"log2\", then `max_features=log2(n_features)`.\n",
        "        - If None, then `max_features=n_features`.\n",
        "        Note: the search for a split does not stop until at least one\n",
        "        valid partition of the node samples is found, even if it requires to\n",
        "        effectively inspect more than ``max_features`` features.\n",
        "    poisson_sampler : boolean, default=False\n",
        "        To match the GRF theory [#1grf]_, if True, the number of features\n",
        "        considered at each tree are drawn from a poisson distribution with\n",
        "        mean equal to `max_features`.\n",
        "    n_jobs : int, default=None\n",
        "        The number of jobs to run in parallel. ``-1`` means use all\n",
        "        processors. None equates to 1.\n",
        "    max_samples : int or float, default=None\n",
        "        The number of samples to draw from X (without replacement) to train\n",
        "        each tree.\n",
        "        - If None, then draw `X.shape[0]` samples.\n",
        "        - If int, then draw `max_samples` samples.\n",
        "        - If float, then draw `max_samples * X.shape[0]` samples. Thus,\n",
        "          `max_samples` should be in the interval `(0, 1)`.\n",
        "        Note: The number of samples used to learn the tree will be further\n",
        "        reduced per the `tree_construction_proportion` value.\n",
        "    honest_prior : {\"ignore\", \"uniform\", \"empirical\"}, default=\"ignore\"\n",
        "        Method for dealing with empty leaves during evaluation of a test\n",
        "        sample. If \"ignore\", trees in which the leaf is empty are not used in\n",
        "        the prediction. If \"uniform\", the prior tree posterior is 1/(number of\n",
        "        classes). If \"empirical\", the prior tree posterior is the relative\n",
        "        class frequency in the voting subsample. If all tree leaves are empty,\n",
        "        \"ignore\" will use the empirical prior and the others will use their\n",
        "        respective priors.\n",
        "    tree_kwargs : dict, default={}\n",
        "        Named arguments to be passed to each\n",
        "        sklearn.tree.DecisionTreeClassifier tree used in the construction\n",
        "        of the forest in addition to the above parameters.\n",
        "    Attributes\n",
        "    ----------\n",
        "    transformers_ : list of sklearn.tree.DecisionTreeClassifier\n",
        "        The collection of fitted trees.\n",
        "    voters_ : list of proglearn.voter.TreeClassificationVoter\n",
        "        The collection of honest voters for leaves in matching trees in\n",
        "        `self.estimators_` at the same index.\n",
        "    n_features_ : int\n",
        "        The number of features when `fit` is performed.\n",
        "    tree_kwargs_ : dict\n",
        "        Full set of keyword arguments passed to the Forest transformer.\n",
        "    References\n",
        "    ----------\n",
        "    .. [#1grf] Athey, Susan, Julie Tibshirani and Stefan Wager.\n",
        "        \"Generalized Random Forests\", Annals of Statistics, 2019.\n",
        "    \"\"\"\n",
        "\n",
        "    def __init__(\n",
        "        self,\n",
        "        n_estimators=100,\n",
        "        kappa=np.inf,\n",
        "        max_depth=None,\n",
        "        tree_construction_proportion=0.63,\n",
        "        max_features=\"auto\",\n",
        "        poisson_sampler=False,\n",
        "        max_samples=None,\n",
        "        n_jobs=None,\n",
        "        honest_prior=\"ignore\",\n",
        "        weighted_trees=False,\n",
        "        min_samples_leaf=1,\n",
        "        min_samples_split=2,\n",
        "        min_impurity_decrease=0.0,\n",
        "    ):\n",
        "        self.n_estimators = n_estimators\n",
        "        self.kappa = kappa\n",
        "        self.max_depth = max_depth\n",
        "        self.tree_construction_proportion = tree_construction_proportion\n",
        "        self.max_features = max_features\n",
        "        self.poisson_sampler = poisson_sampler\n",
        "        self.max_samples = max_samples\n",
        "        self.n_jobs = n_jobs\n",
        "        self.honest_prior = honest_prior\n",
        "        self.verbose = 0\n",
        "        self.weighted_trees = weighted_trees\n",
        "        self.min_samples_leaf = min_samples_leaf\n",
        "        self.min_samples_split = min_samples_split\n",
        "        self.min_impurity_decrease = min_impurity_decrease\n",
        "        \n",
        "\n",
        "    def fit(self, X, y):\n",
        "        \"\"\"\n",
        "        fits forest to data X with labels y\n",
        "        Parameters\n",
        "        ----------\n",
        "        X : array of shape [n_samples, n_features]\n",
        "            The data that will be trained on\n",
        "        y : array of shape [n_samples]\n",
        "            The label for cluster membership of the given data\n",
        "        Returns\n",
        "        -------\n",
        "        self : UncertaintyForest\n",
        "            The object itself.\n",
        "        \"\"\"\n",
        "        X, y = check_X_y(X, y)\n",
        "\n",
        "        self.n_samples_, self.n_features_ = X.shape\n",
        "        self.n_classes_ = len(np.unique(y))\n",
        "        self.empirical_prior_ = np.bincount(y, minlength=self.n_classes_) / len(y)\n",
        "\n",
        "        self.transformers_ = [\n",
        "            DecisionTreeClassifier(\n",
        "                max_features = self.max_features,\n",
        "                max_depth = self.max_depth,\n",
        "                min_samples_leaf = self.min_samples_leaf,\n",
        "                min_samples_split = self.min_samples_split,\n",
        "                min_impurity_decrease = self.min_impurity_decrease,\n",
        "                )\n",
        "            for _ in range(self.n_estimators)\n",
        "        ]\n",
        "\n",
        "        # Source https://github.com/scikit-learn/scikit-learn/blob/95119c13a/sklearn/ensemble/_forest.py#L387\n",
        "        self.transformers_, self.transformer_indices_ = list(zip(\n",
        "            *Parallel(n_jobs=self.n_jobs, verbose=self.verbose, **_joblib_parallel_args(prefer=\"threads\"))(\n",
        "                delayed(_parallel_build_trees)(\n",
        "                    X, y, tree, self.n_samples_, self.n_classes_,\n",
        "                    self.honest_prior, self.tree_construction_proportion,\n",
        "                    self.kappa, self.weighted_trees)\n",
        "                for tree in self.transformers_)\n",
        "                ))\n",
        "\n",
        "        return self\n",
        "\n",
        "    def predict_proba(self, X):\n",
        "        \"\"\"\n",
        "        estimates class posteriors for each example in input data X.\n",
        "        Parameters\n",
        "        ----------\n",
        "        X : array of shape [n_samples, n_features]\n",
        "            The data whose posteriors we are estimating.\n",
        "        Returns\n",
        "        -------\n",
        "        y_proba_hat : ndarray of shape [n_samples, n_classes]\n",
        "            posteriors per example\n",
        "        \"\"\"\n",
        "        X = self._validate_X_predict(X)\n",
        "        n_jobs, _, _ = _partition_estimators(self.n_estimators, self.n_jobs)\n",
        "\n",
        "        # avoid storing the output of every estimator by summing them here\n",
        "        posteriors = np.zeros((X.shape[0], self.n_classes_), dtype=np.float64)\n",
        "        lock = threading.Lock()\n",
        "\n",
        "        Parallel(n_jobs=n_jobs, verbose=self.verbose, **_joblib_parallel_args(require=\"sharedmem\"))(\n",
        "            delayed(_accumulate_prediction)(tree.tree_.predict, X, posteriors, lock, None, self.weighted_trees)\n",
        "            for tree in self.transformers_)\n",
        "\n",
        "        # Normalize to unit length, due to prior weighting\n",
        "        zero_mask = posteriors.sum(1) == 0\n",
        "        posteriors[~zero_mask] /= posteriors[~zero_mask].sum(1, keepdims=True)\n",
        "        posteriors[zero_mask] = self.empirical_prior_\n",
        "\n",
        "        return posteriors\n",
        "\n",
        "    def _validate_X_predict(self, X):\n",
        "        \"\"\"\n",
        "        From sklearn\n",
        "        Validate X whenever one tries to predict, apply, predict_proba.\"\"\"\n",
        "        check_is_fitted(self)\n",
        "\n",
        "        return self.transformers_[0]._validate_X_predict(X, check_input=True)\n",
        "\n",
        "    def predict(self, X):\n",
        "        \"\"\"\n",
        "        predicts class labels for each example in input data X.\n",
        "        Parameters\n",
        "        ----------\n",
        "        X : array of shape [n_samples, n_features]\n",
        "            The data on which we are performing inference.\n",
        "        Returns\n",
        "        -------\n",
        "        y_hat : ndarray of shape [n_samples]\n",
        "            predicted class label per example\n",
        "        \"\"\"\n",
        "        return self.predict_proba(X).argmax(1)\n",
        "\n",
        "    def predict_proba_honest(self, X, voters=True):\n",
        "        \"\"\"\n",
        "        Returns predicted posteriors of the training data, excluding trees a\n",
        "        sample was used in construction of.\n",
        "        Parameters\n",
        "        ----------\n",
        "        X : array of shape [n_samples, n_features]\n",
        "            The data on which the forest was fit to.\n",
        "        Returns\n",
        "        -------\n",
        "        y_proba_hat : ndarray of shape [n_samples, n_classes]\n",
        "            posteriors per example\n",
        "        \"\"\"\n",
        "        X = self._validate_X_predict(X)\n",
        "        n_jobs, _, _ = _partition_estimators(self.n_estimators, self.n_jobs)\n",
        "\n",
        "        # avoid storing the output of every estimator by summing them here\n",
        "        posteriors = np.zeros((X.shape[0], self.n_classes_), dtype=np.float64)\n",
        "        lock = threading.Lock()\n",
        "\n",
        "        if voters:\n",
        "            Parallel(n_jobs=n_jobs, verbose=self.verbose, **_joblib_parallel_args(require=\"sharedmem\"))(\n",
        "                delayed(_accumulate_prediction)(tree.tree_.predict, X, posteriors, lock, honest_indices)\n",
        "                for tree, honest_indices in zip(self.transformers_, self.voter_indices_))\n",
        "        else:\n",
        "            Parallel(n_jobs=n_jobs, verbose=self.verbose, **_joblib_parallel_args(require=\"sharedmem\"))(\n",
        "                delayed(_accumulate_prediction)(tree.tree_.predict, X, posteriors, lock, indices)\n",
        "                for tree, indices in zip(self.transformers_, self.transformer_indices_))\n",
        "\n",
        "        # Normalize to unit length, due to prior weighting\n",
        "        zero_mask = posteriors.sum(1) == 0\n",
        "        posteriors[~zero_mask] /= posteriors[~zero_mask].sum(1, keepdims=True)\n",
        "        posteriors[zero_mask] = self.empirical_prior_\n",
        "\n",
        "        return posteriors\n",
        "\n",
        "\n",
        "    @property\n",
        "    def voter_indices_(self):\n",
        "        if not hasattr(self, \"transformer_indices_\"):\n",
        "            raise AttributeError(\"Model has not been fitted. Please fit first.\")\n",
        "        return [\n",
        "            np.setdiff1d(np.arange(self.n_samples_), transformer_indices)\n",
        "            for transformer_indices in self.transformer_indices_]\n",
        "\n",
        "\n",
        "def _parallel_build_trees(\n",
        "    X, y, tree, n_samples_, n_classes_,\n",
        "    honest_prior, tree_construction_proportion,\n",
        "    kappa, weighted_trees):\n",
        "        # https://github.com/scikit-learn/scikit-learn/blob/95119c13a/sklearn/ensemble/_forest.py#L140\n",
        "        \"\"\"\n",
        "        Private function used to fit a single tree in parallel.\"\"\"\n",
        "\n",
        "        transformer_indices = np.random.choice(\n",
        "            n_samples_,\n",
        "            int(tree_construction_proportion * n_samples_),\n",
        "            replace=False)  # No bootstrapping\n",
        "        voter_indices = np.setdiff1d(\n",
        "            np.arange(n_samples_), transformer_indices)\n",
        "\n",
        "        sample_weight = np.ones((n_samples_,), dtype=np.float64)\n",
        "        sample_counts = np.bincount(\n",
        "            transformer_indices, minlength=n_samples_)\n",
        "        sample_weight *= sample_counts\n",
        "\n",
        "        #tree = tree.fit(X, y, sample_weight=sample_weight, check_input=False) ### Why using y, rather than X[transformer_indices,:],y[transformer_indices]\n",
        "        tree = tree.fit(X[transformer_indices,:],y[transformer_indices], sample_weight=sample_weight[transformer_indices], check_input=False)\n",
        "        \n",
        "        honest_leaves = tree.apply(X[voter_indices])\n",
        "        # empirical_prior = np.bincount(\n",
        "        #     y[voter_indices], minlength=n_classes_)\n",
        "\n",
        "        # if honest_prior == 'ignore':\n",
        "        #     posterior_dict = defaultdict(lambda: np.zeros(n_classes_))\n",
        "        # elif honest_prior == 'empirical':\n",
        "        #     posterior_dict = defaultdict(lambda: empirical_prior)\n",
        "        # elif honest_prior == 'uniform':\n",
        "        #     posterior_dict = defaultdict(lambda: np.ones(n_classes_) / n_classes_)\n",
        "\n",
        "        tree.tree_.value[:, :, :] = 0 # empirical_prior\n",
        "\n",
        "        for leaf_id, yval in zip(honest_leaves, y[voter_indices]):\n",
        "            # posterior_dict[leaf_id][yval] += 1\n",
        "            tree.tree_.value[leaf_id][0, yval] += 1\n",
        "\n",
        "        # for leaf_id in np.unique(honest_leaves):\n",
        "        #     leaf_id_indices = np.where(honest_leaves == leaf_id)[0]\n",
        "        #     correction = 1 / (kappa * len(leaf_id_indices))\n",
        "        #     posterior = correction * empirical_prior + \\\n",
        "        #         (1 - correction) * np.bincount(\n",
        "        #             y[voter_indices[leaf_id_indices]],\n",
        "        #             minlength=n_classes_) / len(leaf_id_indices)\n",
        "        #     posterior_dict[leaf_id] = posterior * (len(leaf_id_indices) if weighted_trees else 1)\n",
        "\n",
        "        return tree, transformer_indices\n",
        "\n",
        "\n",
        "def _accumulate_prediction(predict, X, out, lock, honest_indices=None, weighted_trees=False):\n",
        "    \"\"\"\n",
        "    See https://github.com/scikit-learn/scikit-learn/blob/95119c13af77c76e150b753485c662b7c52a41a2/sklearn/ensemble/_forest.py#L460\n",
        "    This is a utility function for joblib's Parallel.\n",
        "    It can't go locally in ForestClassifier or ForestRegressor, because joblib\n",
        "    complains that it cannot pickle it when placed there.\n",
        "    \"\"\"\n",
        "\n",
        "    # predict = DecisionTreeClassifier.tree_.predict\n",
        "    if honest_indices is not None:\n",
        "        proba = predict(X[honest_indices])\n",
        "    else:\n",
        "        proba = predict(X)\n",
        "    if not weighted_trees:\n",
        "        zero_mask = proba.sum(1) == 0\n",
        "        proba[~zero_mask] /= proba[~zero_mask].sum(1, keepdims=True)\n",
        "    with lock:\n",
        "        if honest_indices is not None:\n",
        "            out[honest_indices] += proba\n",
        "        else:\n",
        "            out += proba"
      ],
      "outputs": [],
      "execution_count": 2,
      "metadata": {
        "jupyter": {
          "source_hidden": false,
          "outputs_hidden": false
        },
        "nteract": {
          "transient": {
            "deleting": false
          }
        },
        "gather": {
          "logged": 1672707362500
        }
      }
    },
    {
      "cell_type": "code",
      "source": [
        "class UFTest_permute_tree:\n",
        "    def __init__(self, uf):\n",
        "        self.name = 'UF'\n",
        "        self.uf = uf\n",
        "        self.fit_ = False\n",
        "        \n",
        "    def statistic(self, X, y):\n",
        "        y = y.ravel()\n",
        "        if not self.fit_:\n",
        "            self.uf = self.uf.fit(X, y)\n",
        "            self.y_ = y\n",
        "#             if hasattr(self, \"honest_leaf_indices_\"):\n",
        "#                 assert hasattr(self, \"transformer_leaf_indices_\")\n",
        "#                 del self.honest_leaf_indices_\n",
        "#                 del self.transformer_leaf_indices_\n",
        "            self.fit_ = True\n",
        "            H_YX = np.mean(entropy(self.uf.predict_proba(X), base=np.exp(1), axis=1))\n",
        "\n",
        "        # if not hasattr(self, \"honest_leaf_indices_\"):\n",
        "            self.honest_leaf_indices_ = []\n",
        "            self.transformer_leaf_indices_ = []\n",
        "            for tree, voter_indices, transformer_indices in zip(self.uf.transformers_, self.uf.voter_indices_, self.uf.transformer_indices_):\n",
        "                self.honest_leaf_indices_.append(tree.apply(X[voter_indices]))\n",
        "                self.transformer_leaf_indices_.append(tree.apply(X[transformer_indices]))\n",
        "        else:\n",
        "            H_YX = self._refit_apply_oob(X, self.y_) # changed from y to self.y_ as does the permutation internally per tree\n",
        "            ### y has been permuted\n",
        "\n",
        "        _, counts = np.unique(y, return_counts=True)\n",
        "        H_Y = entropy(counts, base=np.exp(1))\n",
        "        \n",
        "        return max(H_Y - H_YX, 0)\n",
        "\n",
        "    def _refit_apply_oob(self, X, y):\n",
        "        posteriors = np.zeros((X.shape[0], self.uf.n_classes_), dtype=np.float64)\n",
        "        # posteriors = np.zeros((X.shape[0], self.uf.n_estimators, self.uf.n_classes_), dtype=np.float64)\n",
        "\n",
        "        # np.random.shuffle(y)\n",
        "        for tree, honest_leaf_indices, voter_indices, tranformer_leaf_indices, transformer_indices in zip(\n",
        "            self.uf.transformers_, self.honest_leaf_indices_, self.uf.voter_indices_, self.transformer_leaf_indices_, self.uf.transformer_indices_):\n",
        "        # for tree_idx, (honest_leaf_indices, voter_indices) in enumerate(zip(self.honest_leaf_indices_, self.uf.voter_indices_)):\n",
        "            tree.tree_.value[:, :, :] = 0\n",
        "\n",
        "            y_voters = y[voter_indices]\n",
        "            np.random.shuffle(y_voters)\n",
        "            for leaf_id, yval in zip(honest_leaf_indices, y_voters):\n",
        "                tree.tree_.value[leaf_id][0, yval] += 1\n",
        "\n",
        "            leaf_indices = np.hstack((honest_leaf_indices, tranformer_leaf_indices))\n",
        "            sample_indices = np.hstack((voter_indices, transformer_indices))\n",
        "\n",
        "            proba = tree.tree_.value[leaf_indices][:, 0, :]\n",
        "            normalizer = proba.sum(axis=1)[:, np.newaxis]\n",
        "            normalizer[normalizer == 0.0] = 1.0 # solves divide by 0 error\n",
        "            proba /= normalizer\n",
        "            posteriors[sample_indices] += proba\n",
        "\n",
        "        # Normalize to unit length, due to prior weighting\n",
        "        zero_mask = posteriors.sum(1) == 0\n",
        "        posteriors[~zero_mask] /= posteriors[~zero_mask].sum(1, keepdims=True)\n",
        "        posteriors[zero_mask] = self.uf.empirical_prior_\n",
        "\n",
        "        return np.mean(entropy(posteriors, base=np.exp(1), axis=1))\n",
        "    "
      ],
      "outputs": [],
      "execution_count": 7,
      "metadata": {
        "jupyter": {
          "source_hidden": false,
          "outputs_hidden": false
        },
        "nteract": {
          "transient": {
            "deleting": false
          }
        },
        "gather": {
          "logged": 1672707405452
        }
      }
    },
    {
      "cell_type": "code",
      "source": [
        "def _perm_stat(calc_stat,X, y): \n",
        "    if hasattr(calc_stat, \"fit_\"):\n",
        "        calc_stat.fit_ = False\n",
        "    \n",
        "    permy = np.random.permutation(y)\n",
        "    perm_stat = calc_stat.statistic(X, permy)\n",
        "    \n",
        "    return perm_stat\n",
        "\n",
        "\n",
        "def perm_test(calc_stat,X, y,reps = 1000): \n",
        "    # calculate observed test statistic\n",
        "    if hasattr(calc_stat, \"fit_\"):\n",
        "        calc_stat.fit_ = False\n",
        "    stat = calc_stat.statistic(X, y)\n",
        "    \n",
        "    null_dist = np.asarray([_perm_stat(calc_stat, X, y) for rep in range(reps)])\n",
        "    pvalue = ((null_dist >= stat).sum() + 1) / (reps + 1)\n",
        "    \n",
        "    return stat, pvalue, null_dist"
      ],
      "outputs": [],
      "execution_count": 8,
      "metadata": {
        "jupyter": {
          "source_hidden": false,
          "outputs_hidden": false
        },
        "nteract": {
          "transient": {
            "deleting": false
          }
        },
        "gather": {
          "logged": 1672707409267
        }
      }
    },
    {
      "cell_type": "code",
      "source": [
        "def estimate_power(sim, test,sample_size = 100,dim = 2,reps=1000):\n",
        "    est_power = []\n",
        "    stats_dict = {}\n",
        "    stats_dict = {'pvalues': [], 'null_dists': [], 'stats': []}\n",
        "            \n",
        "    def _helper():\n",
        "        x, y = rot_ksamp(sim, n=sample_size, p=dim, noise=False)\n",
        "        if np.var(np.vstack([x,y])) == 0:\n",
        "            print(\"X == 0\")\n",
        "            stat = 0\n",
        "            pvalue = 0\n",
        "            null_dist = 0\n",
        "        \n",
        "        \n",
        "        else:\n",
        "            X, y = k_sample_transform([x, y])\n",
        "            y = y.astype(int)\n",
        "            print(X.shape,y.shape)\n",
        "            stat, pvalue, null_dist = perm_test(test, X, y, reps=reps)\n",
        "\n",
        "        return stat, pvalue, null_dist\n",
        "    \n",
        "    stats = []\n",
        "    pvalues = []\n",
        "    null_dists = []\n",
        "    for _ in range(POWER_REPS):\n",
        "        stat, pvalue, null_dist = _helper()\n",
        "        stats.append(stat)\n",
        "        pvalues.append(pvalue)\n",
        "        print(stat)\n",
        "        # print(null_dist)\n",
        "        print(pvalue)\n",
        "        null_dists.append(null_dist)\n",
        "        \n",
        "    empirical_power = np.mean(np.asarray(pvalues) <= 0.05)\n",
        "    \n",
        "\n",
        "    est_power.append(empirical_power)\n",
        "        \n",
        "    stats_dict['pvalues'] = pvalues\n",
        "    stats_dict['null_dists'] = null_dists\n",
        "    stats_dict['stats'] = stats\n",
        "    stats_dict['power'] = empirical_power\n",
        "    \n",
        "    return est_power, stats_dict"
      ],
      "outputs": [],
      "execution_count": 9,
      "metadata": {
        "jupyter": {
          "source_hidden": false,
          "outputs_hidden": false
        },
        "nteract": {
          "transient": {
            "deleting": false
          }
        },
        "gather": {
          "logged": 1672707415505
        }
      }
    },
    {
      "cell_type": "code",
      "source": [
        "simulations = [\n",
        "    # 'logarithmic',\n",
        "    'multimodal_independence',\n",
        "]\n",
        "test = UFTest_permute_tree(\n",
        "    uf = UncertaintyForest(\n",
        "        n_estimators=10,\n",
        "        tree_construction_proportion=0.5,\n",
        "        kappa=np.inf,\n",
        "        min_samples_leaf=5,\n",
        "        honest_prior=\"ignore\",\n",
        "        max_features= 1.0,\n",
        "        n_jobs=-1,\n",
        "        max_samples = None\n",
        "    )\n",
        ")"
      ],
      "outputs": [],
      "execution_count": 10,
      "metadata": {
        "jupyter": {
          "source_hidden": false,
          "outputs_hidden": false
        },
        "nteract": {
          "transient": {
            "deleting": false
          }
        },
        "gather": {
          "logged": 1672707420142
        }
      }
    },
    {
      "cell_type": "code",
      "source": [
        "ite = 100\n",
        "POWER_REPS = 100\n",
        "sample_size_i = 20\n",
        "sim = 'multimodal_independence'\n",
        "power, stats_dict = estimate_power(sim, test,sample_size = sample_size_i,dim = 1)"
      ],
      "outputs": [
        {
          "output_type": "stream",
          "name": "stdout",
          "text": "(40, 2) (40, 1)\n0.010548358877516373\n0.6123876123876124\n(40, 2) (40, 1)\n0.01102551224572812\n0.6083916083916084\n(40, 2) (40, 1)\n0.023605363856552652\n0.25274725274725274\n(40, 2) (40, 1)\n0.0083804384925662\n0.7172827172827173\n(40, 2) (40, 1)\n0.0018521862564938596\n0.994005994005994\n(40, 2) (40, 1)\n0.006197342256033189\n0.8381618381618382\n(40, 2) (40, 1)\n0.01970373526405722\n0.3076923076923077\n(40, 2) (40, 1)\n0.0275386342800098\n0.16183816183816183\n(40, 2) (40, 1)\n0.029928558274549433\n0.17682317682317683\n(40, 2) (40, 1)\n0.07372664531623851\n0.03496503496503497\n(40, 2) (40, 1)\n0.03310908663916445\n0.12887112887112886\n(40, 2) (40, 1)\n0.02183613742832291\n0.26873126873126874\n(40, 2) (40, 1)\n0.021361421869901642\n0.3016983016983017\n(40, 2) (40, 1)\n0.014333052609983854\n0.4955044955044955\n(40, 2) (40, 1)\n0.01070220119616938\n0.6293706293706294\n(40, 2) (40, 1)\n0.018748635626775312\n0.3106893106893107\n(40, 2) (40, 1)\n0.019720129280683674\n0.3086913086913087\n(40, 2) (40, 1)\n0.008875007595771978\n0.6993006993006993\n(40, 2) (40, 1)\n0.04771104959774897\n0.06493506493506493\n(40, 2) (40, 1)\n0.012414209759462502\n0.5184815184815185\n(40, 2) (40, 1)\n0.01735158433736117\n0.3856143856143856\n(40, 2) (40, 1)\n0.01390866287866066\n0.4695304695304695\n(40, 2) (40, 1)\n0.017948089488341923\n0.35064935064935066\n(40, 2) (40, 1)\n0.011432625391152751\n0.6023976023976024\n(40, 2) (40, 1)\n0.014767839476384048\n0.46153846153846156\n(40, 2) (40, 1)\n0.01767413017828512\n0.3756243756243756\n(40, 2) (40, 1)\n0.02695190543377035\n0.1838161838161838\n(40, 2) (40, 1)\n0.0021736387616635433\n0.9920079920079921\n(40, 2) (40, 1)\n0.00950293681796277\n0.6833166833166833\n(40, 2) (40, 1)\n0.039806691424079\n0.0999000999000999\n(40, 2) (40, 1)\n0.009719493679729463\n0.6813186813186813\n(40, 2) (40, 1)\n0.002212838196098299\n0.988011988011988\n(40, 2) (40, 1)\n0.004308690087254763\n0.936063936063936\n(40, 2) (40, 1)\n0.010057581393250858\n0.6513486513486514\n(40, 2) (40, 1)\n0.07442102234364756\n0.017982017982017984\n(40, 2) (40, 1)\n0.018041193051383186\n0.36863136863136864\n(40, 2) (40, 1)\n0.01510881609451209\n0.44155844155844154\n(40, 2) (40, 1)\n0.00513158788284962\n0.8961038961038961\n(40, 2) (40, 1)\n0.028223424027208677\n0.1958041958041958\n(40, 2) (40, 1)\n0.03812724725970451\n0.1258741258741259\n(40, 2) (40, 1)\n0.03518242275079819\n0.14185814185814186\n(40, 2) (40, 1)\n0.020312699348729146\n0.3256743256743257\n(40, 2) (40, 1)\n0.008592805633388156\n0.7172827172827173\n(40, 2) (40, 1)\n0.0029834984595428216\n0.9690309690309691\n(40, 2) (40, 1)\n0.029873053307378772\n0.14285714285714285\n(40, 2) (40, 1)\n0.007274053225968746\n0.7722277722277723\n(40, 2) (40, 1)\n0.022387532403903676\n0.26973026973026976\n(40, 2) (40, 1)\n0.020451676970271615\n0.2947052947052947\n(40, 2) (40, 1)\n0.02909887681833845\n0.17082917082917082\n(40, 2) (40, 1)\n0.02005976274804222\n0.2997002997002997\n(40, 2) (40, 1)\n0.003329961914200541\n0.961038961038961\n(40, 2) (40, 1)\n0.028792312718019186\n0.1918081918081918\n(40, 2) (40, 1)\n0.011227971295619699\n0.5894105894105894\n(40, 2) (40, 1)\n0.037438644920027575\n0.1038961038961039\n(40, 2) (40, 1)\n0.024772897838289287\n0.23676323676323677\n(40, 2) (40, 1)\n0.00890211629641613\n0.7102897102897103\n(40, 2) (40, 1)\n0.02227148679162194\n0.25074925074925075\n(40, 2) (40, 1)\n0.015212736276607908\n0.46153846153846156\n(40, 2) (40, 1)\n0.01247321887643038\n0.5554445554445554\n(40, 2) (40, 1)\n0.011106249957120284\n0.6133866133866134\n(40, 2) (40, 1)\n0.0038718066705956122\n0.962037962037962\n(40, 2) (40, 1)\n0.010897027194212039\n0.6353646353646354\n(40, 2) (40, 1)\n0.01631605107593903\n0.4355644355644356\n(40, 2) (40, 1)\n0.0036801574165918893\n0.9500499500499501\n(40, 2) (40, 1)\n0.005551928018615038\n0.8871128871128872\n(40, 2) (40, 1)\n0.003243458361517182\n0.972027972027972\n(40, 2) (40, 1)\n0.010928188803400296\n0.6113886113886113\n(40, 2) (40, 1)\n0.06519217105378539\n0.03796203796203796\n(40, 2) (40, 1)\n0.02300918203915958\n0.26073926073926074\n(40, 2) (40, 1)\n0.00426030776805153\n0.935064935064935\n(40, 2) (40, 1)\n0.012340601710802646\n0.5614385614385614\n(40, 2) (40, 1)\n0.011028880037826094\n0.6063936063936064\n(40, 2) (40, 1)\n0.01111776097028061\n0.5734265734265734\n(40, 2) (40, 1)\n0.008324806797282203\n0.7172827172827173\n(40, 2) (40, 1)\n0.010927605343129199\n0.5834165834165834\n(40, 2) (40, 1)\n0.03505959046570961\n0.13386613386613386\n(40, 2) (40, 1)\n0.013498415248727746\n0.5114885114885115\n(40, 2) (40, 1)\n0.0033820994230154833\n0.972027972027972\n(40, 2) (40, 1)\n0.026328256101391334\n0.19480519480519481\n(40, 2) (40, 1)\n0.008696549391210895\n0.7232767232767233\n(40, 2) (40, 1)\n0.009510613088819952\n0.6683316683316683\n(40, 2) (40, 1)\n0.0027869214406185394\n0.978021978021978\n(40, 2) (40, 1)\n0.001999342398244508\n0.99000999000999\n(40, 2) (40, 1)\n0.05970154742360467\n0.027972027972027972\n(40, 2) (40, 1)\n0.0024485082006747705\n0.985014985014985\n(40, 2) (40, 1)\n0.005604937901497631\n0.8801198801198801\n(40, 2) (40, 1)\n0.011223536276192436\n0.5954045954045954\n(40, 2) (40, 1)\n0.004269064222790164\n0.932067932067932\n(40, 2) (40, 1)\n0.0155472618051824\n0.4145854145854146\n(40, 2) (40, 1)\n0.017294662216252976\n0.35264735264735264\n(40, 2) (40, 1)\n0.0025424882808618987\n0.98001998001998\n(40, 2) (40, 1)\n0.019632959757798774\n0.33666333666333664\n(40, 2) (40, 1)\n0.010261234727147905\n0.6413586413586414\n(40, 2) (40, 1)\n0.008817321966015812\n0.6823176823176823\n(40, 2) (40, 1)\n0.016541220524537548\n0.4035964035964036\n(40, 2) (40, 1)\n0.027964054591078313\n0.1838161838161838\n(40, 2) (40, 1)\n0.0017841235201970784\n0.999000999000999\n(40, 2) (40, 1)\n0.018218729037784986\n0.36663336663336665\n(40, 2) (40, 1)\n0.0154540765634682\n0.4245754245754246\n(40, 2) (40, 1)\n0.01345294751403403\n0.5034965034965035\n"
        }
      ],
      "execution_count": 11,
      "metadata": {
        "jupyter": {
          "source_hidden": false,
          "outputs_hidden": false
        },
        "nteract": {
          "transient": {
            "deleting": false
          }
        },
        "gather": {
          "logged": 1672709738171
        }
      }
    },
    {
      "cell_type": "code",
      "source": [
        "np.save(\"NULL_DIS_w_100_1h_part.npy\",null_dist)\n",
        "np.save(\"pvalue_w_100_1h_part.npy\",pvalue)\n",
        "np.save(\"stat_w_100_1h_part.npy\",stat)"
      ],
      "outputs": [],
      "execution_count": null,
      "metadata": {
        "jupyter": {
          "source_hidden": false,
          "outputs_hidden": false
        },
        "nteract": {
          "transient": {
            "deleting": false
          }
        },
        "gather": {
          "logged": 1670280261089
        }
      }
    },
    {
      "cell_type": "code",
      "source": [
        "pvalues = stats_dict['pvalues']"
      ],
      "outputs": [],
      "execution_count": 13,
      "metadata": {
        "jupyter": {
          "source_hidden": false,
          "outputs_hidden": false
        },
        "nteract": {
          "transient": {
            "deleting": false
          }
        },
        "gather": {
          "logged": 1672718882094
        }
      }
    },
    {
      "cell_type": "code",
      "source": [
        "#pvalue = np.load(\"pvalue_w_all_1k.npy\")\n",
        "from statsmodels.distributions.empirical_distribution import ECDF\n",
        "ecdf = ECDF(pvalues) \n",
        "plt.plot(ecdf.x, ecdf.y,label = \"ECDF\")\n",
        "plt.plot(np.arange(0,1.1,0.1),np.arange(0,1.1,0.1),c = 'r',label = \"UDF\")\n",
        "plt.title(\"ECDF for p-value with 10 trees and 100 iterations,Structure Frac = 0.5, Sample Size = 20\")\n",
        "plt.legend()\n",
        "plt.show()"
      ],
      "outputs": [
        {
          "output_type": "display_data",
          "data": {
            "text/plain": "<Figure size 640x480 with 1 Axes>",
            "image/png": "[encoded data removed]"
          },
          "metadata": {}
        }
      ],
      "execution_count": 14,
      "metadata": {
        "jupyter": {
          "source_hidden": false,
          "outputs_hidden": false
        },
        "nteract": {
          "transient": {
            "deleting": false
          }
        },
        "gather": {
          "logged": 1672718897143
        }
      }
    },
    {
      "cell_type": "code",
      "source": [
        "plt.hist(pvalues,bins=10)\n",
        "plt.title(\"Histogram for p-value with 10 trees and 100 iterations,Structure Frac = 0.5,Sample Size = 20\")"
      ],
      "outputs": [
        {
          "output_type": "execute_result",
          "execution_count": 15,
          "data": {
            "text/plain": "Text(0.5, 1.0, 'Histogram for p-value with 10 trees and 100 iterations,Structure Frac = 0.5,Sample Size = 20')"
          },
          "metadata": {}
        },
        {
          "output_type": "display_data",
          "data": {
            "text/plain": "<Figure size 640x480 with 1 Axes>",
            "image/png": "[encoded data removed]"
          },
          "metadata": {}
        }
      ],
      "execution_count": 15,
      "metadata": {
        "jupyter": {
          "source_hidden": false,
          "outputs_hidden": false
        },
        "nteract": {
          "transient": {
            "deleting": false
          }
        },
        "gather": {
          "logged": 1672718900725
        }
      }
    }
  ],
  "metadata": {
    "kernelspec": {
      "name": "python38-azureml",
      "language": "python",
      "display_name": "Python 3.8 - AzureML"
    },
    "language_info": {
      "name": "python",
      "version": "3.8.5",
      "mimetype": "text/x-python",
      "codemirror_mode": {
        "name": "ipython",
        "version": 3
      },
      "pygments_lexer": "ipython3",
      "nbconvert_exporter": "python",
      "file_extension": ".py"
    },
    "kernel_info": {
      "name": "python38-azureml"
    },
    "microsoft": {
      "host": {
        "AzureML": {
          "notebookHasBeenCompleted": true
        }
      }
    },
    "nteract": {
      "version": "nteract-front-end@1.0.0"
    }
  },
  "nbformat": 4,
  "nbformat_minor": 2
}